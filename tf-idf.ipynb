{
 "cells": [
  {
   "cell_type": "code",
   "execution_count": 1,
   "metadata": {},
   "outputs": [],
   "source": [
    "import pandas as pd\n",
    "import numpy as np\n",
    "import gensim\n",
    "import matplotlib.pyplot as plt\n",
    "import re\n",
    "from pymystem3 import Mystem\n",
    "import smart_open\n",
    "from nltk.corpus import stopwords\n",
    "from sklearn.feature_extraction.text import CountVectorizer\n",
    "from sklearn.feature_extraction.text import TfidfTransformer\n",
    "from sklearn.naive_bayes import MultinomialNB\n",
    "from sklearn.model_selection import train_test_split\n",
    "from sklearn.model_selection import GridSearchCV\n",
    "from sklearn.linear_model import LogisticRegression\n",
    "from sklearn.ensemble import RandomForestClassifier\n",
    "from sklearn.svm import LinearSVC\n",
    "from sklearn.metrics import *\n",
    "import seaborn as sns\n",
    "%matplotlib inline"
   ]
  },
  {
   "cell_type": "code",
   "execution_count": 2,
   "metadata": {},
   "outputs": [],
   "source": [
    "data = pd.read_csv('data/contracts.csv',sep=';', header=None, names=['contract','service_id','service_name','user_request'])"
   ]
  },
  {
   "cell_type": "code",
   "execution_count": 3,
   "metadata": {},
   "outputs": [
    {
     "data": {
      "text/html": [
       "<div>\n",
       "<style scoped>\n",
       "    .dataframe tbody tr th:only-of-type {\n",
       "        vertical-align: middle;\n",
       "    }\n",
       "\n",
       "    .dataframe tbody tr th {\n",
       "        vertical-align: top;\n",
       "    }\n",
       "\n",
       "    .dataframe thead th {\n",
       "        text-align: right;\n",
       "    }\n",
       "</style>\n",
       "<table border=\"1\" class=\"dataframe\">\n",
       "  <thead>\n",
       "    <tr style=\"text-align: right;\">\n",
       "      <th></th>\n",
       "      <th>contract</th>\n",
       "      <th>service_id</th>\n",
       "      <th>service_name</th>\n",
       "      <th>user_request</th>\n",
       "    </tr>\n",
       "  </thead>\n",
       "  <tbody>\n",
       "    <tr>\n",
       "      <th>0</th>\n",
       "      <td>354</td>\n",
       "      <td>4</td>\n",
       "      <td>Сантехник</td>\n",
       "      <td>лалсо</td>\n",
       "    </tr>\n",
       "    <tr>\n",
       "      <th>1</th>\n",
       "      <td>364</td>\n",
       "      <td>16</td>\n",
       "      <td>Сборка и ремонт мебели</td>\n",
       "      <td>заказ для Александра Трушкина</td>\n",
       "    </tr>\n",
       "    <tr>\n",
       "      <th>2</th>\n",
       "      <td>370</td>\n",
       "      <td>13</td>\n",
       "      <td>Ремонт компьютеров</td>\n",
       "      <td>заказ для Алишера</td>\n",
       "    </tr>\n",
       "    <tr>\n",
       "      <th>3</th>\n",
       "      <td>379</td>\n",
       "      <td>14</td>\n",
       "      <td>Муж на час</td>\n",
       "      <td>для Ерлана</td>\n",
       "    </tr>\n",
       "    <tr>\n",
       "      <th>4</th>\n",
       "      <td>385</td>\n",
       "      <td>14</td>\n",
       "      <td>Муж на час</td>\n",
       "      <td>мастер мастеров</td>\n",
       "    </tr>\n",
       "  </tbody>\n",
       "</table>\n",
       "</div>"
      ],
      "text/plain": [
       "   contract  service_id            service_name                   user_request\n",
       "0       354           4               Сантехник                          лалсо\n",
       "1       364          16  Сборка и ремонт мебели  заказ для Александра Трушкина\n",
       "2       370          13      Ремонт компьютеров              заказ для Алишера\n",
       "3       379          14              Муж на час                     для Ерлана\n",
       "4       385          14              Муж на час                мастер мастеров"
      ]
     },
     "execution_count": 3,
     "metadata": {},
     "output_type": "execute_result"
    }
   ],
   "source": [
    "data.head()"
   ]
  },
  {
   "cell_type": "code",
   "execution_count": 4,
   "metadata": {},
   "outputs": [
    {
     "data": {
      "text/plain": [
       "<matplotlib.axes._subplots.AxesSubplot at 0x7f9fb4a65ac8>"
      ]
     },
     "execution_count": 4,
     "metadata": {},
     "output_type": "execute_result"
    },
    {
     "data": {
      "image/png": "[encoded data removed]",
      "text/plain": [
       "<Figure size 432x288 with 1 Axes>"
      ]
     },
     "metadata": {
      "needs_background": "light"
     },
     "output_type": "display_data"
    }
   ],
   "source": [
    "data.service_id.value_counts().plot(kind='bar')"
   ]
  },
  {
   "cell_type": "code",
   "execution_count": 5,
   "metadata": {},
   "outputs": [
    {
     "data": {
      "text/html": [
       "<div>\n",
       "<style scoped>\n",
       "    .dataframe tbody tr th:only-of-type {\n",
       "        vertical-align: middle;\n",
       "    }\n",
       "\n",
       "    .dataframe tbody tr th {\n",
       "        vertical-align: top;\n",
       "    }\n",
       "\n",
       "    .dataframe thead th {\n",
       "        text-align: right;\n",
       "    }\n",
       "</style>\n",
       "<table border=\"1\" class=\"dataframe\">\n",
       "  <thead>\n",
       "    <tr style=\"text-align: right;\">\n",
       "      <th></th>\n",
       "      <th>contract</th>\n",
       "      <th>service_id</th>\n",
       "      <th>service_name</th>\n",
       "      <th>user_request</th>\n",
       "    </tr>\n",
       "  </thead>\n",
       "  <tbody>\n",
       "    <tr>\n",
       "      <th>1</th>\n",
       "      <td>364</td>\n",
       "      <td>16</td>\n",
       "      <td>Сборка и ремонт мебели</td>\n",
       "      <td>заказ для Александра Трушкина</td>\n",
       "    </tr>\n",
       "    <tr>\n",
       "      <th>2</th>\n",
       "      <td>370</td>\n",
       "      <td>13</td>\n",
       "      <td>Ремонт компьютеров</td>\n",
       "      <td>заказ для Алишера</td>\n",
       "    </tr>\n",
       "    <tr>\n",
       "      <th>9</th>\n",
       "      <td>550</td>\n",
       "      <td>13</td>\n",
       "      <td>Ремонт компьютеров</td>\n",
       "      <td>где фото?</td>\n",
       "    </tr>\n",
       "    <tr>\n",
       "      <th>11</th>\n",
       "      <td>568</td>\n",
       "      <td>13</td>\n",
       "      <td>Ремонт компьютеров</td>\n",
       "      <td>видно имя?</td>\n",
       "    </tr>\n",
       "    <tr>\n",
       "      <th>13</th>\n",
       "      <td>573</td>\n",
       "      <td>13</td>\n",
       "      <td>Ремонт компьютеров</td>\n",
       "      <td>рейтинг нулевой</td>\n",
       "    </tr>\n",
       "  </tbody>\n",
       "</table>\n",
       "</div>"
      ],
      "text/plain": [
       "    contract  service_id            service_name  \\\n",
       "1        364          16  Сборка и ремонт мебели   \n",
       "2        370          13      Ремонт компьютеров   \n",
       "9        550          13      Ремонт компьютеров   \n",
       "11       568          13      Ремонт компьютеров   \n",
       "13       573          13      Ремонт компьютеров   \n",
       "\n",
       "                     user_request  \n",
       "1   заказ для Александра Трушкина  \n",
       "2               заказ для Алишера  \n",
       "9                       где фото?  \n",
       "11                     видно имя?  \n",
       "13                рейтинг нулевой  "
      ]
     },
     "execution_count": 5,
     "metadata": {},
     "output_type": "execute_result"
    }
   ],
   "source": [
    "data4 = data[~data.service_id.isin([14,10,4])].copy()\n",
    "data4.head()"
   ]
  },
  {
   "cell_type": "code",
   "execution_count": 6,
   "metadata": {},
   "outputs": [],
   "source": [
    "data.loc[~data.service_id.isin([14,10,4]), 'service_id'] = 0"
   ]
  },
  {
   "cell_type": "code",
   "execution_count": 7,
   "metadata": {},
   "outputs": [
    {
     "data": {
      "text/plain": [
       "<matplotlib.axes._subplots.AxesSubplot at 0x7f9fb10b70b8>"
      ]
     },
     "execution_count": 7,
     "metadata": {},
     "output_type": "execute_result"
    },
    {
     "data": {
      "image/png": "[encoded data removed]",
      "text/plain": [
       "<Figure size 432x288 with 1 Axes>"
      ]
     },
     "metadata": {
      "needs_background": "light"
     },
     "output_type": "display_data"
    }
   ],
   "source": [
    "data.service_id.value_counts().plot(kind='bar')"
   ]
  },
  {
   "cell_type": "code",
   "execution_count": 8,
   "metadata": {},
   "outputs": [],
   "source": [
    "vc = data4.service_id.value_counts().sort_values(ascending=False)[5:].index.tolist()\n",
    "ind = data4[data4['service_id'].isin(vc)].index\n",
    "data4.drop(ind, inplace=True)"
   ]
  },
  {
   "cell_type": "code",
   "execution_count": 9,
   "metadata": {},
   "outputs": [
    {
     "data": {
      "text/plain": [
       "<matplotlib.axes._subplots.AxesSubplot at 0x7f9fb10382b0>"
      ]
     },
     "execution_count": 9,
     "metadata": {},
     "output_type": "execute_result"
    },
    {
     "data": {
      "image/png": "[encoded data removed]",
      "text/plain": [
       "<Figure size 432x288 with 1 Axes>"
      ]
     },
     "metadata": {
      "needs_background": "light"
     },
     "output_type": "display_data"
    }
   ],
   "source": [
    "data4.service_id.value_counts().plot(kind='bar')"
   ]
  },
  {
   "cell_type": "code",
   "execution_count": 10,
   "metadata": {},
   "outputs": [],
   "source": [
    "\n",
    "REPLACE_BY_SPACE_RE = re.compile('[/(){}\\[\\]\\|@,;]')\n",
    "BAD_SYMBOLS_RE = re.compile('[^а-я ]')"
   ]
  },
  {
   "cell_type": "code",
   "execution_count": 11,
   "metadata": {},
   "outputs": [],
   "source": [
    "def remove_stopwords(text: str) -> str:\n",
    "        try:\n",
    "            text = text.lower()\n",
    "            text = REPLACE_BY_SPACE_RE.sub(' ', text)\n",
    "            text = BAD_SYMBOLS_RE.sub('', text)\n",
    "            return \" \".join([token for token in text.split() if token not in mystopwords])\n",
    "        except:\n",
    "            return \"\"\n",
    "        \n",
    "def lemmatize(text: str) -> str:\n",
    "    try:\n",
    "        return \"\".join(m.lemmatize(text)).strip()  \n",
    "    except:\n",
    "        return \" \"\n",
    "\n",
    "def remove_stoplemmas(text: str) -> str:\n",
    "    try:\n",
    "        return \" \".join([token for token in text.split() if token not in mystoplemmas])\n",
    "    except:\n",
    "        return \"\"\n",
    "\n",
    "def clear_text(text: str) ->str:\n",
    "    cText = remove_stopwords(text)\n",
    "    cText = lemmatize(cText)\n",
    "    cText = remove_stoplemmas(cText)\n",
    "    return cText"
   ]
  },
  {
   "cell_type": "code",
   "execution_count": 12,
   "metadata": {},
   "outputs": [],
   "source": [
    "m = Mystem()"
   ]
  },
  {
   "cell_type": "code",
   "execution_count": 14,
   "metadata": {},
   "outputs": [
    {
     "name": "stderr",
     "output_type": "stream",
     "text": [
      "[nltk_data] Downloading package stopwords to /home/mic/nltk_data...\n",
      "[nltk_data]   Package stopwords is already up-to-date!\n"
     ]
    }
   ],
   "source": [
    "import nltk\n",
    "nltk.download('stopwords')\n",
    "mystopwords = stopwords.words('russian') + ['это', 'наш', 'тыс', 'млн', 'млрд', 'также',  'т', 'д','iKomek.kz','кв']\n",
    "mystoplemmas = ['который', 'прошлый', 'сей', 'свой', 'наш', 'мочь']"
   ]
  },
  {
   "cell_type": "code",
   "execution_count": 16,
   "metadata": {},
   "outputs": [],
   "source": [
    "from sklearn.pipeline import Pipeline\n",
    "from sklearn.feature_extraction.text import TfidfVectorizer"
   ]
  },
  {
   "cell_type": "code",
   "execution_count": 23,
   "metadata": {},
   "outputs": [],
   "source": [
    "data['lemmas'] = data.user_request.apply(lambda x: clear_text(x))"
   ]
  },
  {
   "cell_type": "code",
   "execution_count": 24,
   "metadata": {},
   "outputs": [
    {
     "data": {
      "text/html": [
       "<div>\n",
       "<style scoped>\n",
       "    .dataframe tbody tr th:only-of-type {\n",
       "        vertical-align: middle;\n",
       "    }\n",
       "\n",
       "    .dataframe tbody tr th {\n",
       "        vertical-align: top;\n",
       "    }\n",
       "\n",
       "    .dataframe thead th {\n",
       "        text-align: right;\n",
       "    }\n",
       "</style>\n",
       "<table border=\"1\" class=\"dataframe\">\n",
       "  <thead>\n",
       "    <tr style=\"text-align: right;\">\n",
       "      <th></th>\n",
       "      <th>contract</th>\n",
       "      <th>service_id</th>\n",
       "      <th>service_name</th>\n",
       "      <th>user_request</th>\n",
       "      <th>lemmas</th>\n",
       "    </tr>\n",
       "  </thead>\n",
       "  <tbody>\n",
       "    <tr>\n",
       "      <th>0</th>\n",
       "      <td>354</td>\n",
       "      <td>4</td>\n",
       "      <td>Сантехник</td>\n",
       "      <td>лалсо</td>\n",
       "      <td>лалсо</td>\n",
       "    </tr>\n",
       "    <tr>\n",
       "      <th>1</th>\n",
       "      <td>364</td>\n",
       "      <td>0</td>\n",
       "      <td>Сборка и ремонт мебели</td>\n",
       "      <td>заказ для Александра Трушкина</td>\n",
       "      <td>заказ александр трушкин</td>\n",
       "    </tr>\n",
       "    <tr>\n",
       "      <th>2</th>\n",
       "      <td>370</td>\n",
       "      <td>0</td>\n",
       "      <td>Ремонт компьютеров</td>\n",
       "      <td>заказ для Алишера</td>\n",
       "      <td>заказ алишер</td>\n",
       "    </tr>\n",
       "    <tr>\n",
       "      <th>3</th>\n",
       "      <td>379</td>\n",
       "      <td>14</td>\n",
       "      <td>Муж на час</td>\n",
       "      <td>для Ерлана</td>\n",
       "      <td>ерлан</td>\n",
       "    </tr>\n",
       "    <tr>\n",
       "      <th>4</th>\n",
       "      <td>385</td>\n",
       "      <td>14</td>\n",
       "      <td>Муж на час</td>\n",
       "      <td>мастер мастеров</td>\n",
       "      <td>мастер мастер</td>\n",
       "    </tr>\n",
       "  </tbody>\n",
       "</table>\n",
       "</div>"
      ],
      "text/plain": [
       "   contract  service_id            service_name  \\\n",
       "0       354           4               Сантехник   \n",
       "1       364           0  Сборка и ремонт мебели   \n",
       "2       370           0      Ремонт компьютеров   \n",
       "3       379          14              Муж на час   \n",
       "4       385          14              Муж на час   \n",
       "\n",
       "                    user_request                   lemmas  \n",
       "0                          лалсо                    лалсо  \n",
       "1  заказ для Александра Трушкина  заказ александр трушкин  \n",
       "2              заказ для Алишера             заказ алишер  \n",
       "3                     для Ерлана                    ерлан  \n",
       "4                мастер мастеров            мастер мастер  "
      ]
     },
     "execution_count": 24,
     "metadata": {},
     "output_type": "execute_result"
    }
   ],
   "source": [
    "data.head()"
   ]
  },
  {
   "cell_type": "code",
   "execution_count": 39,
   "metadata": {},
   "outputs": [],
   "source": [
    "vec_model = TfidfVectorizer(analyzer='char', ngram_range={4,6})"
   ]
  },
  {
   "cell_type": "code",
   "execution_count": 40,
   "metadata": {},
   "outputs": [],
   "source": [
    "X = data.lemmas\n",
    "Y = data.service_id"
   ]
  },
  {
   "cell_type": "code",
   "execution_count": 41,
   "metadata": {},
   "outputs": [],
   "source": [
    "X_train, X_test, y_train, y_test = train_test_split(X, Y, test_size=0.33, random_state=42)"
   ]
  },
  {
   "cell_type": "code",
   "execution_count": 90,
   "metadata": {},
   "outputs": [],
   "source": [
    "def print_result(model, text, x_test, y_true, cv, proba=True):\n",
    "    print('Predicted service ID: ', model.predict([text]))\n",
    "    if proba:\n",
    "        pred_service = model.predict_proba([text])\n",
    "        print('Predic_proba : ', pred_service)\n",
    "    predictions = model.predict(x_test)\n",
    "    print(\"Precision: {0:6.2f}\".format(precision_score(y_true, predictions, average='macro')))\n",
    "    print(\"Recall: {0:6.2f}\".format(recall_score(y_true, predictions, average='macro')))\n",
    "    print(\"F1-measure: {0:6.2f}\".format(f1_score(y_true, predictions, average='macro')))\n",
    "    print(\"Accuracy: {0:6.2f}\".format(accuracy_score(y_true, predictions)))\n",
    "    print(classification_report(y_true, predictions))\n",
    "    labels = ['Другие','Сантехник','Электрик','Муж на час']\n",
    "    sns.heatmap(data=confusion_matrix(y_true, predictions), annot=True, fmt=\"d\", cbar=False, xticklabels=labels, yticklabels=labels)\n",
    "    plt.title(\"Confusion matrix\")\n",
    "    plt.show()"
   ]
  },
  {
   "cell_type": "code",
   "execution_count": 42,
   "metadata": {},
   "outputs": [],
   "source": [
    "param = [\n",
    "         {\"C\":[5,10,50], 'penalty': ['l1'], 'solver': ['liblinear', 'saga']},\n",
    "         {\"C\":[5,10,50],'penalty': ['l2'], 'solver': ['newton-cg'] }\n",
    "        ]\n",
    "model = LogisticRegression(multi_class = 'auto', max_iter = 200)"
   ]
  },
  {
   "cell_type": "code",
   "execution_count": 45,
   "metadata": {},
   "outputs": [
    {
     "name": "stdout",
     "output_type": "stream",
     "text": [
      "tuned hpyerparameters :(best parameters)  {'C': 5, 'penalty': 'l2', 'solver': 'newton-cg'}\n",
      "accuracy : 0.77535044602221\n"
     ]
    }
   ],
   "source": [
    "cv = GridSearchCV(model, param, cv = 10)\n",
    "logreg = Pipeline([\n",
    "                    ('tfidf', vec_model),\n",
    "                    ('clf', cv),\n",
    "               ])\n",
    "logreg.fit(X_train, y_train)\n",
    "print(\"tuned hpyerparameters :(best parameters) \", cv.best_params_)\n",
    "print(\"accuracy :\", cv.best_score_)"
   ]
  },
  {
   "cell_type": "code",
   "execution_count": 46,
   "metadata": {},
   "outputs": [
    {
     "name": "stdout",
     "output_type": "stream",
     "text": [
      "Test score:  0.7719881744271988\n"
     ]
    }
   ],
   "source": [
    "test_score = logreg.score(X_test, y_test)\n",
    "print('Test score: ', test_score)"
   ]
  },
  {
   "cell_type": "code",
   "execution_count": 47,
   "metadata": {},
   "outputs": [
    {
     "data": {
      "text/plain": [
       "array([0])"
      ]
     },
     "execution_count": 47,
     "metadata": {},
     "output_type": "execute_result"
    }
   ],
   "source": [
    "test_text = 'генеральная уборка 4-х комнатной квартиры'"
   ]
  },
  {
   "cell_type": "code",
   "execution_count": 56,
   "metadata": {},
   "outputs": [
    {
     "name": "stdout",
     "output_type": "stream",
     "text": [
      "Predicted service ID:  [0]\n",
      "Predic_proba :  [[0.52766356 0.15625559 0.10216178 0.21391908]]\n",
      "Precision:   0.75\n",
      "Recall:   0.59\n",
      "F1-measure:   0.61\n",
      "Accuracy:   0.66\n",
      "              precision    recall  f1-score   support\n",
      "\n",
      "           0       0.97      0.23      0.37       251\n",
      "           4       0.74      0.72      0.73       828\n",
      "          10       0.75      0.76      0.75       735\n",
      "          14       0.52      0.65      0.58       892\n",
      "\n",
      "   micro avg       0.66      0.66      0.66      2706\n",
      "   macro avg       0.75      0.59      0.61      2706\n",
      "weighted avg       0.69      0.66      0.65      2706\n",
      "\n"
     ]
    },
    {
     "data": {
      "image/png": "[encoded data removed]",
      "text/plain": [
       "<Figure size 432x288 with 1 Axes>"
      ]
     },
     "metadata": {
      "needs_background": "light"
     },
     "output_type": "display_data"
    }
   ],
   "source": [
    "print_result(logreg, test_text, X_test, y_test, cv)"
   ]
  },
  {
   "cell_type": "code",
   "execution_count": 53,
   "metadata": {},
   "outputs": [
    {
     "name": "stdout",
     "output_type": "stream",
     "text": [
      "tuned hpyerparameters :(best parameters)  {'max_depth': 20, 'n_estimators': 50}\n",
      "accuracy : 0.6602949208083014\n"
     ]
    }
   ],
   "source": [
    "param = {\"n_estimators\":[5,10,50], 'max_depth': [5,10,20]}      \n",
    "model = RandomForestClassifier(min_samples_leaf=20, max_features=0.5)\n",
    "cv = GridSearchCV(model, param, cv = 3, n_jobs = 7)\n",
    "rf = Pipeline([\n",
    "                    ('tfidf', vec_model),\n",
    "                    ('clf', cv),\n",
    "               ])\n",
    "rf.fit(X_train, y_train)\n",
    "print(\"tuned hpyerparameters :(best parameters) \", cv.best_params_)\n",
    "print(\"accuracy :\", cv.best_score_)"
   ]
  },
  {
   "cell_type": "code",
   "execution_count": 57,
   "metadata": {},
   "outputs": [
    {
     "name": "stdout",
     "output_type": "stream",
     "text": [
      "Predicted service ID:  [0]\n",
      "Predic_proba :  [[0.52766356 0.15625559 0.10216178 0.21391908]]\n",
      "Precision:   0.75\n",
      "Recall:   0.59\n",
      "F1-measure:   0.61\n",
      "Accuracy:   0.66\n",
      "              precision    recall  f1-score   support\n",
      "\n",
      "           0       0.97      0.23      0.37       251\n",
      "           4       0.74      0.72      0.73       828\n",
      "          10       0.75      0.76      0.75       735\n",
      "          14       0.52      0.65      0.58       892\n",
      "\n",
      "   micro avg       0.66      0.66      0.66      2706\n",
      "   macro avg       0.75      0.59      0.61      2706\n",
      "weighted avg       0.69      0.66      0.65      2706\n",
      "\n"
     ]
    },
    {
     "data": {
      "image/png": "[encoded data removed]",
      "text/plain": [
       "<Figure size 432x288 with 1 Axes>"
      ]
     },
     "metadata": {
      "needs_background": "light"
     },
     "output_type": "display_data"
    }
   ],
   "source": [
    "print_result(logreg, test_text, X_test, y_test, cv)"
   ]
  },
  {
   "cell_type": "code",
   "execution_count": 63,
   "metadata": {},
   "outputs": [
    {
     "name": "stdout",
     "output_type": "stream",
     "text": [
      "tuned hpyerparameters :(best parameters)  {'loss': 'hinge', 'penalty': 'l2'}\n",
      "accuracy : 0.7748042963772074\n"
     ]
    }
   ],
   "source": [
    "param = [\n",
    "    {\"loss\":['hinge','squared_hinge'], 'penalty': ['l2']},\n",
    "]\n",
    "model = LinearSVC()\n",
    "cv = GridSearchCV(model, param, cv = 3, n_jobs = 7)\n",
    "svc = Pipeline([\n",
    "                    ('tfidf', vec_model),\n",
    "                    ('clf', cv),\n",
    "               ])\n",
    "svc.fit(X_train, y_train)\n",
    "print(\"tuned hpyerparameters :(best parameters) \", cv.best_params_)\n",
    "print(\"accuracy :\", cv.best_score_)"
   ]
  },
  {
   "cell_type": "code",
   "execution_count": 66,
   "metadata": {},
   "outputs": [
    {
     "name": "stdout",
     "output_type": "stream",
     "text": [
      "Predicted service ID:  [0]\n",
      "Precision:   0.75\n",
      "Recall:   0.59\n",
      "F1-measure:   0.61\n",
      "Accuracy:   0.66\n",
      "              precision    recall  f1-score   support\n",
      "\n",
      "           0       0.97      0.23      0.37       251\n",
      "           4       0.74      0.72      0.73       828\n",
      "          10       0.75      0.76      0.75       735\n",
      "          14       0.52      0.65      0.58       892\n",
      "\n",
      "   micro avg       0.66      0.66      0.66      2706\n",
      "   macro avg       0.75      0.59      0.61      2706\n",
      "weighted avg       0.69      0.66      0.65      2706\n",
      "\n"
     ]
    },
    {
     "data": {
      "image/png": "[encoded data removed]",
      "text/plain": [
       "<Figure size 432x288 with 1 Axes>"
      ]
     },
     "metadata": {
      "needs_background": "light"
     },
     "output_type": "display_data"
    }
   ],
   "source": [
    "print_result(svc, test_text, X_test, y_test, cv, False)"
   ]
  },
  {
   "cell_type": "code",
   "execution_count": 72,
   "metadata": {},
   "outputs": [
    {
     "name": "stdout",
     "output_type": "stream",
     "text": [
      "tuned hpyerparameters :(best parameters)  {'alpha': 1.0, 'fit_prior': False}\n",
      "accuracy : 0.7596941561987984\n"
     ]
    }
   ],
   "source": [
    "param = [\n",
    "    {'alpha': [0.1, 1.0], 'fit_prior':[True, False]},\n",
    "]\n",
    "model = MultinomialNB()\n",
    "cv = GridSearchCV(model, param, cv = 3, n_jobs = 7)\n",
    "nb = Pipeline([\n",
    "                    ('tfidf', vec_model),\n",
    "                    ('clf', cv),\n",
    "               ])\n",
    "nb.fit(X_train, y_train)\n",
    "print(\"tuned hpyerparameters :(best parameters) \", cv.best_params_)\n",
    "print(\"accuracy :\", cv.best_score_)"
   ]
  },
  {
   "cell_type": "code",
   "execution_count": 74,
   "metadata": {},
   "outputs": [
    {
     "name": "stdout",
     "output_type": "stream",
     "text": [
      "Predicted service ID:  [0]\n",
      "Predic_proba :  [[0.74054425 0.01140127 0.08196786 0.16608662]]\n",
      "Precision:   0.75\n",
      "Recall:   0.59\n",
      "F1-measure:   0.61\n",
      "Accuracy:   0.66\n",
      "              precision    recall  f1-score   support\n",
      "\n",
      "           0       0.97      0.23      0.37       251\n",
      "           4       0.74      0.72      0.73       828\n",
      "          10       0.75      0.76      0.75       735\n",
      "          14       0.52      0.65      0.58       892\n",
      "\n",
      "   micro avg       0.66      0.66      0.66      2706\n",
      "   macro avg       0.75      0.59      0.61      2706\n",
      "weighted avg       0.69      0.66      0.65      2706\n",
      "\n"
     ]
    },
    {
     "data": {
      "image/png": "[encoded data removed]",
      "text/plain": [
       "<Figure size 432x288 with 1 Axes>"
      ]
     },
     "metadata": {
      "needs_background": "light"
     },
     "output_type": "display_data"
    }
   ],
   "source": [
    "print_result(nb, test_text, X_test, y_test, cv, True)"
   ]
  },
  {
   "cell_type": "code",
   "execution_count": 75,
   "metadata": {},
   "outputs": [],
   "source": [
    "from sklearn.neighbors import KNeighborsClassifier"
   ]
  },
  {
   "cell_type": "code",
   "execution_count": 81,
   "metadata": {},
   "outputs": [
    {
     "name": "stdout",
     "output_type": "stream",
     "text": [
      "tuned hpyerparameters :(best parameters)  {'n_neighbors': 100}\n",
      "accuracy : 0.6934279992718004\n"
     ]
    }
   ],
   "source": [
    "param = [\n",
    "    {'n_neighbors': [50,100, 150]},\n",
    "]\n",
    "model = KNeighborsClassifier()\n",
    "cv = GridSearchCV(model, param, cv = 3)\n",
    "kn = Pipeline([\n",
    "                    ('tfidf', vec_model),\n",
    "                    ('clf', cv),\n",
    "               ])\n",
    "kn.fit(X_train, y_train)\n",
    "print(\"tuned hpyerparameters :(best parameters) \", cv.best_params_)\n",
    "print(\"accuracy :\", cv.best_score_)"
   ]
  },
  {
   "cell_type": "code",
   "execution_count": 88,
   "metadata": {},
   "outputs": [
    {
     "name": "stdout",
     "output_type": "stream",
     "text": [
      "Predicted service ID:  [0]\n",
      "Predic_proba :  [[0.34 0.25 0.23 0.18]]\n",
      "Precision:   0.75\n",
      "Recall:   0.59\n",
      "F1-measure:   0.61\n",
      "Accuracy:   0.66\n",
      "              precision    recall  f1-score   support\n",
      "\n",
      "           0       0.97      0.23      0.37       251\n",
      "           4       0.74      0.72      0.73       828\n",
      "          10       0.75      0.76      0.75       735\n",
      "          14       0.52      0.65      0.58       892\n",
      "\n",
      "   micro avg       0.66      0.66      0.66      2706\n",
      "   macro avg       0.75      0.59      0.61      2706\n",
      "weighted avg       0.69      0.66      0.65      2706\n",
      "\n"
     ]
    },
    {
     "data": {
      "image/png": "[encoded data removed]",
      "text/plain": [
       "<Figure size 432x288 with 1 Axes>"
      ]
     },
     "metadata": {
      "needs_background": "light"
     },
     "output_type": "display_data"
    }
   ],
   "source": [
    "print_result(kn, test_text, X_test, y_test, cv, True)"
   ]
  },
  {
   "cell_type": "code",
   "execution_count": 84,
   "metadata": {},
   "outputs": [],
   "source": [
    "from mlxtend.classifier import StackingClassifier"
   ]
  },
  {
   "cell_type": "code",
   "execution_count": 92,
   "metadata": {},
   "outputs": [
    {
     "name": "stderr",
     "output_type": "stream",
     "text": [
      "/var/www/pvm/jupiter/lib/python3.6/site-packages/sklearn/svm/base.py:931: ConvergenceWarning: Liblinear failed to converge, increase the number of iterations.\n",
      "  \"the number of iterations.\", ConvergenceWarning)\n",
      "/var/www/pvm/jupiter/lib/python3.6/site-packages/sklearn/svm/base.py:931: ConvergenceWarning: Liblinear failed to converge, increase the number of iterations.\n",
      "  \"the number of iterations.\", ConvergenceWarning)\n",
      "/var/www/pvm/jupiter/lib/python3.6/site-packages/sklearn/svm/base.py:931: ConvergenceWarning: Liblinear failed to converge, increase the number of iterations.\n",
      "  \"the number of iterations.\", ConvergenceWarning)\n",
      "/var/www/pvm/jupiter/lib/python3.6/site-packages/sklearn/svm/base.py:931: ConvergenceWarning: Liblinear failed to converge, increase the number of iterations.\n",
      "  \"the number of iterations.\", ConvergenceWarning)\n",
      "/var/www/pvm/jupiter/lib/python3.6/site-packages/sklearn/svm/base.py:931: ConvergenceWarning: Liblinear failed to converge, increase the number of iterations.\n",
      "  \"the number of iterations.\", ConvergenceWarning)\n",
      "/var/www/pvm/jupiter/lib/python3.6/site-packages/sklearn/svm/base.py:931: ConvergenceWarning: Liblinear failed to converge, increase the number of iterations.\n",
      "  \"the number of iterations.\", ConvergenceWarning)\n"
     ]
    },
    {
     "name": "stdout",
     "output_type": "stream",
     "text": [
      "tuned hpyerparameters :(best parameters)  {'meta_classifier__C': 0.1}\n",
      "accuracy : 0.585654469324595\n"
     ]
    }
   ],
   "source": [
    "clf1 = KNeighborsClassifier(n_neighbors=1)\n",
    "clf2 = RandomForestClassifier(max_depth = 20, n_estimators = 50, random_state=1)\n",
    "clf3 = LinearSVC(loss = 'hinge', penalty = 'l2',max_iter=2000)\n",
    "lr = LogisticRegression(multi_class = 'auto', penalty = 'l2', solver = 'newton-cg')\n",
    "sclf = StackingClassifier(classifiers=[clf1, clf2, clf3], \n",
    "                          meta_classifier=lr)\n",
    "params = {'meta_classifier__C': [0.1, 5, 10.0]}\n",
    "\n",
    "grid = GridSearchCV(estimator=sclf, \n",
    "                    param_grid=params, \n",
    "                    cv=5,\n",
    "                    refit=True)\n",
    "stack = Pipeline([\n",
    "                    ('tfidf', vec_model),\n",
    "                    ('clf', grid),\n",
    "               ])\n",
    "stack.fit(X_train, y_train)\n",
    "print(\"tuned hpyerparameters :(best parameters) \", grid.best_params_)\n",
    "print(\"accuracy :\", grid.best_score_)"
   ]
  },
  {
   "cell_type": "code",
   "execution_count": 93,
   "metadata": {},
   "outputs": [
    {
     "name": "stdout",
     "output_type": "stream",
     "text": [
      "Predicted service ID:  [0]\n",
      "Predic_proba :  [[9.49958137e-01 4.98026447e-02 2.39217876e-04 8.86212713e-10]]\n",
      "Precision:   0.63\n",
      "Recall:   0.58\n",
      "F1-measure:   0.59\n",
      "Accuracy:   0.58\n",
      "              precision    recall  f1-score   support\n",
      "\n",
      "           0       0.80      0.60      0.68       251\n",
      "           4       0.56      0.81      0.66       828\n",
      "          10       0.50      0.56      0.53       735\n",
      "          14       0.66      0.37      0.47       892\n",
      "\n",
      "   micro avg       0.58      0.58      0.58      2706\n",
      "   macro avg       0.63      0.58      0.59      2706\n",
      "weighted avg       0.60      0.58      0.57      2706\n",
      "\n"
     ]
    },
    {
     "data": {
      "image/png": "[encoded data removed]",
      "text/plain": [
       "<Figure size 432x288 with 1 Axes>"
      ]
     },
     "metadata": {
      "needs_background": "light"
     },
     "output_type": "display_data"
    }
   ],
   "source": [
    "print_result(stack, test_text, X_test, y_test, grid, True)"
   ]
  },
  {
   "cell_type": "code",
   "execution_count": null,
   "metadata": {},
   "outputs": [],
   "source": []
  }
 ],
 "metadata": {
  "kernelspec": {
   "display_name": "Python 3",
   "language": "python",
   "name": "python3"
  },
  "language_info": {
   "codemirror_mode": {
    "name": "ipython",
    "version": 3
   },
   "file_extension": ".py",
   "mimetype": "text/x-python",
   "name": "python",
   "nbconvert_exporter": "python",
   "pygments_lexer": "ipython3",
   "version": "3.6.8"
  }
 },
 "nbformat": 4,
 "nbformat_minor": 2
}
