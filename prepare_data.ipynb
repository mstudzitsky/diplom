{
 "cells": [
  {
   "cell_type": "code",
   "execution_count": 1,
   "metadata": {},
   "outputs": [
    {
     "name": "stderr",
     "output_type": "stream",
     "text": [
      "[nltk_data] Downloading package stopwords to /home/mic/nltk_data...\n",
      "[nltk_data]   Package stopwords is already up-to-date!\n"
     ]
    },
    {
     "data": {
      "text/plain": [
       "True"
      ]
     },
     "execution_count": 1,
     "metadata": {},
     "output_type": "execute_result"
    }
   ],
   "source": [
    "import pandas as pd\n",
    "import re\n",
    "from pymystem3 import Mystem\n",
    "import smart_open\n",
    "import nltk\n",
    "from nltk.corpus import stopwords\n",
    "nltk.download('stopwords')"
   ]
  },
  {
   "cell_type": "code",
   "execution_count": 2,
   "metadata": {},
   "outputs": [],
   "source": [
    "mystopwords = stopwords.words('russian') + ['это', 'наш', 'тыс', 'млн', 'млрд', 'также',  'т', 'д','iKomek.kz','кв']\n",
    "mystoplemmas = ['который', 'прошлый', 'сей', 'свой', 'наш', 'мочь','х']\n",
    "REPLACE_BY_SPACE_RE = re.compile('[/(){}\\[\\]\\|@,;]')\n",
    "BAD_SYMBOLS_RE = re.compile('[^а-я ]')\n",
    "m=Mystem()\n",
    "def remove_stopwords(text: str) -> str:\n",
    "    try:\n",
    "        text = text.lower()\n",
    "        text = REPLACE_BY_SPACE_RE.sub(' ', text)\n",
    "        text = BAD_SYMBOLS_RE.sub('', text)\n",
    "        return \" \".join([token for token in text.split() if token not in mystopwords])\n",
    "    except:\n",
    "        return \"\"\n",
    "        \n",
    "def lemmatize(text: str) -> str:\n",
    "    try:\n",
    "        return \"\".join(m.lemmatize(text)).strip()  \n",
    "    except:\n",
    "        return \" \"\n",
    "\n",
    "def remove_stoplemmas(text: str) -> str:\n",
    "    try:\n",
    "        return \" \".join([token for token in text.split() if token not in mystoplemmas])\n",
    "    except:\n",
    "        return \"\"\n",
    "\n",
    "def clear_text(text: str) ->str:\n",
    "    cText = remove_stopwords(text)\n",
    "    cText = lemmatize(cText)\n",
    "    cText = remove_stoplemmas(cText)\n",
    "    return cText"
   ]
  },
  {
   "cell_type": "code",
   "execution_count": 3,
   "metadata": {},
   "outputs": [],
   "source": [
    "data = pd.read_csv('data/contracts.csv',sep=';', header=None, names=['contract','service_id','service_name','user_request'])"
   ]
  },
  {
   "cell_type": "code",
   "execution_count": 4,
   "metadata": {},
   "outputs": [
    {
     "data": {
      "text/html": [
       "<div>\n",
       "<style scoped>\n",
       "    .dataframe tbody tr th:only-of-type {\n",
       "        vertical-align: middle;\n",
       "    }\n",
       "\n",
       "    .dataframe tbody tr th {\n",
       "        vertical-align: top;\n",
       "    }\n",
       "\n",
       "    .dataframe thead th {\n",
       "        text-align: right;\n",
       "    }\n",
       "</style>\n",
       "<table border=\"1\" class=\"dataframe\">\n",
       "  <thead>\n",
       "    <tr style=\"text-align: right;\">\n",
       "      <th></th>\n",
       "      <th>contract</th>\n",
       "      <th>service_id</th>\n",
       "      <th>service_name</th>\n",
       "      <th>user_request</th>\n",
       "    </tr>\n",
       "  </thead>\n",
       "  <tbody>\n",
       "    <tr>\n",
       "      <th>0</th>\n",
       "      <td>354</td>\n",
       "      <td>4</td>\n",
       "      <td>Сантехник</td>\n",
       "      <td>лалсо</td>\n",
       "    </tr>\n",
       "    <tr>\n",
       "      <th>1</th>\n",
       "      <td>364</td>\n",
       "      <td>16</td>\n",
       "      <td>Сборка и ремонт мебели</td>\n",
       "      <td>заказ для Александра Трушкина</td>\n",
       "    </tr>\n",
       "    <tr>\n",
       "      <th>2</th>\n",
       "      <td>370</td>\n",
       "      <td>13</td>\n",
       "      <td>Ремонт компьютеров</td>\n",
       "      <td>заказ для Алишера</td>\n",
       "    </tr>\n",
       "    <tr>\n",
       "      <th>3</th>\n",
       "      <td>379</td>\n",
       "      <td>14</td>\n",
       "      <td>Муж на час</td>\n",
       "      <td>для Ерлана</td>\n",
       "    </tr>\n",
       "    <tr>\n",
       "      <th>4</th>\n",
       "      <td>385</td>\n",
       "      <td>14</td>\n",
       "      <td>Муж на час</td>\n",
       "      <td>мастер мастеров</td>\n",
       "    </tr>\n",
       "  </tbody>\n",
       "</table>\n",
       "</div>"
      ],
      "text/plain": [
       "   contract  service_id            service_name                   user_request\n",
       "0       354           4               Сантехник                          лалсо\n",
       "1       364          16  Сборка и ремонт мебели  заказ для Александра Трушкина\n",
       "2       370          13      Ремонт компьютеров              заказ для Алишера\n",
       "3       379          14              Муж на час                     для Ерлана\n",
       "4       385          14              Муж на час                мастер мастеров"
      ]
     },
     "execution_count": 4,
     "metadata": {},
     "output_type": "execute_result"
    }
   ],
   "source": [
    "data.head()"
   ]
  },
  {
   "cell_type": "code",
   "execution_count": 48,
   "metadata": {},
   "outputs": [],
   "source": [
    "lemmas=[]\n",
    "for _,row in data.iterrows():\n",
    "    l = clear_text(row['user_request'])\n",
    "    lemmas.append(l)"
   ]
  },
  {
   "cell_type": "code",
   "execution_count": 49,
   "metadata": {},
   "outputs": [],
   "source": [
    "lfile = smart_open.open('data/lemmas.txt', mode='wb', encoding='utf-8') "
   ]
  },
  {
   "cell_type": "code",
   "execution_count": 50,
   "metadata": {},
   "outputs": [],
   "source": [
    "for lemma in lemmas:\n",
    "    lfile.write(lemma)\n",
    "    lfile.write('\\n')\n",
    "lfile.close()"
   ]
  },
  {
   "cell_type": "code",
   "execution_count": 10,
   "metadata": {},
   "outputs": [],
   "source": [
    "seo_file = smart_open.open('data/seo_text.txt', mode='r', encoding='utf-8')\n",
    "lfile = smart_open.open('data/lemmas.txt', mode='a', encoding='utf-8') "
   ]
  },
  {
   "cell_type": "code",
   "execution_count": 11,
   "metadata": {},
   "outputs": [],
   "source": [
    "for line in seo_file:\n",
    "    lemma = clear_text(line)\n",
    "    lfile.write(lemma)\n",
    "    lfile.write('\\n')\n",
    "lfile.close()\n",
    "seo_file.close()"
   ]
  },
  {
   "cell_type": "code",
   "execution_count": null,
   "metadata": {},
   "outputs": [],
   "source": []
  }
 ],
 "metadata": {
  "kernelspec": {
   "display_name": "Python 3",
   "language": "python",
   "name": "python3"
  },
  "language_info": {
   "codemirror_mode": {
    "name": "ipython",
    "version": 3
   },
   "file_extension": ".py",
   "mimetype": "text/x-python",
   "name": "python",
   "nbconvert_exporter": "python",
   "pygments_lexer": "ipython3",
   "version": "3.6.8"
  }
 },
 "nbformat": 4,
 "nbformat_minor": 2
}
