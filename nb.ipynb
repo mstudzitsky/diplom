{
 "cells": [
  {
   "cell_type": "code",
   "execution_count": 31,
   "metadata": {},
   "outputs": [
    {
     "name": "stderr",
     "output_type": "stream",
     "text": [
      "[nltk_data] Downloading package stopwords to /home/mic/nltk_data...\n",
      "[nltk_data]   Package stopwords is already up-to-date!\n"
     ]
    }
   ],
   "source": [
    "import pandas as pd\n",
    "import numpy as np\n",
    "import matplotlib.pyplot as plt\n",
    "import re\n",
    "from pymystem3 import Mystem\n",
    "from nltk.corpus import stopwords\n",
    "from sklearn.model_selection import train_test_split\n",
    "from sklearn.model_selection import GridSearchCV\n",
    "from sklearn.naive_bayes import MultinomialNB\n",
    "from sklearn.metrics import *\n",
    "import seaborn as sns\n",
    "from utils import ikomek_accuracy\n",
    "from sklearn.pipeline import Pipeline\n",
    "from sklearn.feature_extraction.text import TfidfVectorizer\n",
    "import nltk\n",
    "nltk.download('stopwords')\n",
    "from joblib import dump, load\n",
    "%matplotlib inline"
   ]
  },
  {
   "cell_type": "code",
   "execution_count": 32,
   "metadata": {},
   "outputs": [],
   "source": [
    "data = pd.read_csv('data/contracts.csv',sep=';', header=None, names=['contract','service_id','service_name','user_request'])"
   ]
  },
  {
   "cell_type": "code",
   "execution_count": 33,
   "metadata": {},
   "outputs": [
    {
     "data": {
      "text/html": [
       "<div>\n",
       "<style scoped>\n",
       "    .dataframe tbody tr th:only-of-type {\n",
       "        vertical-align: middle;\n",
       "    }\n",
       "\n",
       "    .dataframe tbody tr th {\n",
       "        vertical-align: top;\n",
       "    }\n",
       "\n",
       "    .dataframe thead th {\n",
       "        text-align: right;\n",
       "    }\n",
       "</style>\n",
       "<table border=\"1\" class=\"dataframe\">\n",
       "  <thead>\n",
       "    <tr style=\"text-align: right;\">\n",
       "      <th></th>\n",
       "      <th>contract</th>\n",
       "      <th>service_id</th>\n",
       "      <th>service_name</th>\n",
       "      <th>user_request</th>\n",
       "    </tr>\n",
       "  </thead>\n",
       "  <tbody>\n",
       "    <tr>\n",
       "      <th>0</th>\n",
       "      <td>426</td>\n",
       "      <td>14</td>\n",
       "      <td>Муж на час</td>\n",
       "      <td>выкорчивать пень</td>\n",
       "    </tr>\n",
       "    <tr>\n",
       "      <th>1</th>\n",
       "      <td>429</td>\n",
       "      <td>14</td>\n",
       "      <td>Муж на час</td>\n",
       "      <td>выкорччпчивать пень</td>\n",
       "    </tr>\n",
       "    <tr>\n",
       "      <th>2</th>\n",
       "      <td>475</td>\n",
       "      <td>10</td>\n",
       "      <td>Электрик</td>\n",
       "      <td>не работает розетка в коридоре</td>\n",
       "    </tr>\n",
       "    <tr>\n",
       "      <th>3</th>\n",
       "      <td>573</td>\n",
       "      <td>13</td>\n",
       "      <td>Ремонт компьютеров</td>\n",
       "      <td>рейтинг нулевой</td>\n",
       "    </tr>\n",
       "    <tr>\n",
       "      <th>4</th>\n",
       "      <td>617</td>\n",
       "      <td>13</td>\n",
       "      <td>Ремонт компьютеров</td>\n",
       "      <td>пробный заказ на новой версии</td>\n",
       "    </tr>\n",
       "  </tbody>\n",
       "</table>\n",
       "</div>"
      ],
      "text/plain": [
       "   contract  service_id        service_name                    user_request\n",
       "0       426          14          Муж на час                выкорчивать пень\n",
       "1       429          14          Муж на час             выкорччпчивать пень\n",
       "2       475          10            Электрик  не работает розетка в коридоре\n",
       "3       573          13  Ремонт компьютеров                 рейтинг нулевой\n",
       "4       617          13  Ремонт компьютеров   пробный заказ на новой версии"
      ]
     },
     "execution_count": 33,
     "metadata": {},
     "output_type": "execute_result"
    }
   ],
   "source": [
    "data.head()"
   ]
  },
  {
   "cell_type": "code",
   "execution_count": 34,
   "metadata": {},
   "outputs": [
    {
     "data": {
      "text/plain": [
       "<matplotlib.axes._subplots.AxesSubplot at 0x7f51c9949208>"
      ]
     },
     "execution_count": 34,
     "metadata": {},
     "output_type": "execute_result"
    },
    {
     "data": {
      "image/png": "[encoded data removed]",
      "text/plain": [
       "<Figure size 432x288 with 1 Axes>"
      ]
     },
     "metadata": {
      "needs_background": "light"
     },
     "output_type": "display_data"
    }
   ],
   "source": [
    "data.service_id.value_counts().plot(kind='bar')"
   ]
  },
  {
   "cell_type": "code",
   "execution_count": 35,
   "metadata": {},
   "outputs": [
    {
     "data": {
      "text/html": [
       "<div>\n",
       "<style scoped>\n",
       "    .dataframe tbody tr th:only-of-type {\n",
       "        vertical-align: middle;\n",
       "    }\n",
       "\n",
       "    .dataframe tbody tr th {\n",
       "        vertical-align: top;\n",
       "    }\n",
       "\n",
       "    .dataframe thead th {\n",
       "        text-align: right;\n",
       "    }\n",
       "</style>\n",
       "<table border=\"1\" class=\"dataframe\">\n",
       "  <thead>\n",
       "    <tr style=\"text-align: right;\">\n",
       "      <th></th>\n",
       "      <th>contract</th>\n",
       "      <th>service_id</th>\n",
       "      <th>service_name</th>\n",
       "      <th>user_request</th>\n",
       "    </tr>\n",
       "  </thead>\n",
       "  <tbody>\n",
       "    <tr>\n",
       "      <th>3</th>\n",
       "      <td>573</td>\n",
       "      <td>13</td>\n",
       "      <td>Ремонт компьютеров</td>\n",
       "      <td>рейтинг нулевой</td>\n",
       "    </tr>\n",
       "    <tr>\n",
       "      <th>4</th>\n",
       "      <td>617</td>\n",
       "      <td>13</td>\n",
       "      <td>Ремонт компьютеров</td>\n",
       "      <td>пробный заказ на новой версии</td>\n",
       "    </tr>\n",
       "    <tr>\n",
       "      <th>6</th>\n",
       "      <td>650</td>\n",
       "      <td>13</td>\n",
       "      <td>Ремонт компьютеров</td>\n",
       "      <td>пуш есть или нет на горячий заказ</td>\n",
       "    </tr>\n",
       "    <tr>\n",
       "      <th>7</th>\n",
       "      <td>651</td>\n",
       "      <td>13</td>\n",
       "      <td>Ремонт компьютеров</td>\n",
       "      <td>покрасить намордник у собаки</td>\n",
       "    </tr>\n",
       "    <tr>\n",
       "      <th>9</th>\n",
       "      <td>664</td>\n",
       "      <td>13</td>\n",
       "      <td>Ремонт компьютеров</td>\n",
       "      <td>сделать рекламу на окна</td>\n",
       "    </tr>\n",
       "  </tbody>\n",
       "</table>\n",
       "</div>"
      ],
      "text/plain": [
       "   contract  service_id        service_name                       user_request\n",
       "3       573          13  Ремонт компьютеров                    рейтинг нулевой\n",
       "4       617          13  Ремонт компьютеров      пробный заказ на новой версии\n",
       "6       650          13  Ремонт компьютеров  пуш есть или нет на горячий заказ\n",
       "7       651          13  Ремонт компьютеров       покрасить намордник у собаки\n",
       "9       664          13  Ремонт компьютеров            сделать рекламу на окна"
      ]
     },
     "execution_count": 35,
     "metadata": {},
     "output_type": "execute_result"
    }
   ],
   "source": [
    "data4 = data[~data.service_id.isin([14,10,4])].copy()\n",
    "data4.head()"
   ]
  },
  {
   "cell_type": "code",
   "execution_count": 36,
   "metadata": {},
   "outputs": [],
   "source": [
    "data.loc[~data.service_id.isin([14,10,4]), 'service_id'] = 0"
   ]
  },
  {
   "cell_type": "code",
   "execution_count": 37,
   "metadata": {},
   "outputs": [
    {
     "data": {
      "text/plain": [
       "<matplotlib.axes._subplots.AxesSubplot at 0x7f51e9228cc0>"
      ]
     },
     "execution_count": 37,
     "metadata": {},
     "output_type": "execute_result"
    },
    {
     "data": {
      "image/png": "[encoded data removed]",
      "text/plain": [
       "<Figure size 432x288 with 1 Axes>"
      ]
     },
     "metadata": {
      "needs_background": "light"
     },
     "output_type": "display_data"
    }
   ],
   "source": [
    "data.service_id.value_counts().plot(kind='bar')"
   ]
  },
  {
   "cell_type": "code",
   "execution_count": 38,
   "metadata": {},
   "outputs": [],
   "source": [
    "vc = data4.service_id.value_counts().sort_values(ascending=False)[5:].index.tolist()\n",
    "ind = data4[data4['service_id'].isin(vc)].index\n",
    "data4.drop(ind, inplace=True)"
   ]
  },
  {
   "cell_type": "code",
   "execution_count": 39,
   "metadata": {},
   "outputs": [
    {
     "data": {
      "text/plain": [
       "<matplotlib.axes._subplots.AxesSubplot at 0x7f51e91e7400>"
      ]
     },
     "execution_count": 39,
     "metadata": {},
     "output_type": "execute_result"
    },
    {
     "data": {
      "image/png": "[encoded data removed]",
      "text/plain": [
       "<Figure size 432x288 with 1 Axes>"
      ]
     },
     "metadata": {
      "needs_background": "light"
     },
     "output_type": "display_data"
    }
   ],
   "source": [
    "data4.service_id.value_counts().plot(kind='bar')"
   ]
  },
  {
   "cell_type": "code",
   "execution_count": 40,
   "metadata": {},
   "outputs": [],
   "source": [
    "REPLACE_BY_SPACE_RE = re.compile('[/(){}\\[\\]\\|@,;]')\n",
    "BAD_SYMBOLS_RE = re.compile('[^а-я ]')"
   ]
  },
  {
   "cell_type": "code",
   "execution_count": 41,
   "metadata": {},
   "outputs": [],
   "source": [
    "def remove_stopwords(text: str) -> str:\n",
    "        try:\n",
    "            text = text.lower()\n",
    "            text = REPLACE_BY_SPACE_RE.sub(' ', text)\n",
    "            text = BAD_SYMBOLS_RE.sub('', text)\n",
    "            return \" \".join([token for token in text.split() if token not in mystopwords])\n",
    "        except:\n",
    "            return \"\"\n",
    "        \n",
    "def lemmatize(text: str) -> str:\n",
    "    try:\n",
    "        return \"\".join(m.lemmatize(text)).strip()  \n",
    "    except:\n",
    "        return \" \"\n",
    "\n",
    "def remove_stoplemmas(text: str) -> str:\n",
    "    try:\n",
    "        return \" \".join([token for token in text.split() if token not in mystoplemmas])\n",
    "    except:\n",
    "        return \"\"\n",
    "\n",
    "def clear_text(text: str) ->str:\n",
    "    cText = remove_stopwords(text)\n",
    "    cText = lemmatize(cText)\n",
    "    cText = remove_stoplemmas(cText)\n",
    "    return cText"
   ]
  },
  {
   "cell_type": "code",
   "execution_count": 42,
   "metadata": {},
   "outputs": [],
   "source": [
    "m = Mystem()"
   ]
  },
  {
   "cell_type": "code",
   "execution_count": 43,
   "metadata": {},
   "outputs": [],
   "source": [
    "mystopwords = stopwords.words('russian') + ['это', 'наш', 'тыс', 'млн', 'млрд', 'также',  'т', 'д','iKomek.kz','кв','для','тел']\n",
    "mystoplemmas = ['который', 'прошлый', 'сей', 'свой', 'наш', 'мочь','заказ','адрес','телефон','тел']"
   ]
  },
  {
   "cell_type": "code",
   "execution_count": 44,
   "metadata": {},
   "outputs": [
    {
     "data": {
      "text/html": [
       "<div>\n",
       "<style scoped>\n",
       "    .dataframe tbody tr th:only-of-type {\n",
       "        vertical-align: middle;\n",
       "    }\n",
       "\n",
       "    .dataframe tbody tr th {\n",
       "        vertical-align: top;\n",
       "    }\n",
       "\n",
       "    .dataframe thead th {\n",
       "        text-align: right;\n",
       "    }\n",
       "</style>\n",
       "<table border=\"1\" class=\"dataframe\">\n",
       "  <thead>\n",
       "    <tr style=\"text-align: right;\">\n",
       "      <th></th>\n",
       "      <th>contract</th>\n",
       "      <th>service_id</th>\n",
       "      <th>service_name</th>\n",
       "      <th>user_request</th>\n",
       "    </tr>\n",
       "  </thead>\n",
       "  <tbody>\n",
       "    <tr>\n",
       "      <th>0</th>\n",
       "      <td>426</td>\n",
       "      <td>14</td>\n",
       "      <td>Муж на час</td>\n",
       "      <td>выкорчивать пень</td>\n",
       "    </tr>\n",
       "    <tr>\n",
       "      <th>1</th>\n",
       "      <td>429</td>\n",
       "      <td>14</td>\n",
       "      <td>Муж на час</td>\n",
       "      <td>выкорччпчивать пень</td>\n",
       "    </tr>\n",
       "    <tr>\n",
       "      <th>2</th>\n",
       "      <td>475</td>\n",
       "      <td>10</td>\n",
       "      <td>Электрик</td>\n",
       "      <td>не работает розетка в коридоре</td>\n",
       "    </tr>\n",
       "    <tr>\n",
       "      <th>3</th>\n",
       "      <td>573</td>\n",
       "      <td>0</td>\n",
       "      <td>Ремонт компьютеров</td>\n",
       "      <td>рейтинг нулевой</td>\n",
       "    </tr>\n",
       "    <tr>\n",
       "      <th>4</th>\n",
       "      <td>617</td>\n",
       "      <td>0</td>\n",
       "      <td>Ремонт компьютеров</td>\n",
       "      <td>пробный заказ на новой версии</td>\n",
       "    </tr>\n",
       "  </tbody>\n",
       "</table>\n",
       "</div>"
      ],
      "text/plain": [
       "   contract  service_id        service_name                    user_request\n",
       "0       426          14          Муж на час                выкорчивать пень\n",
       "1       429          14          Муж на час             выкорччпчивать пень\n",
       "2       475          10            Электрик  не работает розетка в коридоре\n",
       "3       573           0  Ремонт компьютеров                 рейтинг нулевой\n",
       "4       617           0  Ремонт компьютеров   пробный заказ на новой версии"
      ]
     },
     "execution_count": 44,
     "metadata": {},
     "output_type": "execute_result"
    }
   ],
   "source": [
    "data.head()"
   ]
  },
  {
   "cell_type": "code",
   "execution_count": 45,
   "metadata": {},
   "outputs": [],
   "source": [
    "data['lemmas'] = data.user_request.apply(lambda x: clear_text(x))\n",
    "for index, row in data.iterrows():\n",
    "    if len(row['lemmas']) < 3 or len(row['lemmas'].split(' ')) < 2:\n",
    "        data.drop(index, inplace=True)"
   ]
  },
  {
   "cell_type": "code",
   "execution_count": 46,
   "metadata": {},
   "outputs": [],
   "source": [
    "vec_model = TfidfVectorizer()"
   ]
  },
  {
   "cell_type": "code",
   "execution_count": 47,
   "metadata": {},
   "outputs": [],
   "source": [
    "X = data.lemmas\n",
    "Y = data.service_id"
   ]
  },
  {
   "cell_type": "code",
   "execution_count": 48,
   "metadata": {},
   "outputs": [],
   "source": [
    "X_train, X_test, y_train, y_test = train_test_split(X, Y, test_size=0.33, random_state=42)"
   ]
  },
  {
   "cell_type": "code",
   "execution_count": 49,
   "metadata": {},
   "outputs": [],
   "source": [
    "def print_result(model, text, x_test, y_true, cv, proba=True, lab = None):\n",
    "    print('Predicted service ID: ', model.predict([text]))\n",
    "    if proba:\n",
    "        pred_service = model.predict_proba([text])\n",
    "        print('Predic_proba : ', pred_service)\n",
    "    predictions = model.predict(x_test)\n",
    "    print(\"Precision: {0:6.2f}\".format(precision_score(y_true, predictions, average='macro')))\n",
    "    print(\"Recall: {0:6.2f}\".format(recall_score(y_true, predictions, average='macro')))\n",
    "    print(\"F1-measure: {0:6.2f}\".format(f1_score(y_true, predictions, average='macro')))\n",
    "    print(\"Accuracy: {0:6.2f}\".format(ikomek_accuracy(y_true, predictions)))\n",
    "    print(classification_report(y_true, predictions))\n",
    "    if lab == None:\n",
    "        labels = ['Другие','Сантехник','Электрик','Муж на час']\n",
    "    else:\n",
    "        labels = lab\n",
    "    sns.heatmap(data=confusion_matrix(y_true, predictions), annot=True, fmt=\"d\", cbar=False, xticklabels=labels, yticklabels=labels)\n",
    "    plt.title(\"Confusion matrix\")\n",
    "    plt.show()"
   ]
  },
  {
   "cell_type": "code",
   "execution_count": 50,
   "metadata": {},
   "outputs": [],
   "source": [
    "test_text = 'поключить стиралку'"
   ]
  },
  {
   "cell_type": "code",
   "execution_count": 51,
   "metadata": {},
   "outputs": [
    {
     "name": "stdout",
     "output_type": "stream",
     "text": [
      "tuned hpyerparameters :(best parameters)  {'alpha': 1.0, 'fit_prior': False}\n",
      "accuracy : 0.8405091725945338\n",
      "Test score:  0.8552431610942249\n",
      "Predicted service ID:  [0]\n",
      "Predic_proba :  [[0.25 0.25 0.25 0.25]]\n",
      "Precision:   0.80\n",
      "Recall:   0.77\n",
      "F1-measure:   0.78\n",
      "Accuracy:   0.86\n",
      "              precision    recall  f1-score   support\n",
      "\n",
      "           0       0.83      0.64      0.72       222\n",
      "           4       0.76      0.88      0.82       789\n",
      "          10       0.84      0.88      0.86       746\n",
      "          14       0.77      0.67      0.72       875\n",
      "\n",
      "    accuracy                           0.79      2632\n",
      "   macro avg       0.80      0.77      0.78      2632\n",
      "weighted avg       0.79      0.79      0.79      2632\n",
      "\n"
     ]
    },
    {
     "data": {
      "image/png": "[encoded data removed]",
      "text/plain": [
       "<Figure size 432x288 with 1 Axes>"
      ]
     },
     "metadata": {
      "needs_background": "light"
     },
     "output_type": "display_data"
    },
    {
     "name": "stdout",
     "output_type": "stream",
     "text": [
      "CPU times: user 2.29 s, sys: 472 ms, total: 2.76 s\n",
      "Wall time: 2.18 s\n"
     ]
    }
   ],
   "source": [
    "%%time\n",
    "param = [\n",
    "    {'alpha': [0.1, 1.0], 'fit_prior':[True, False]},\n",
    "]\n",
    "ikomek_scorer = make_scorer(ikomek_accuracy)\n",
    "model = model = MultinomialNB()\n",
    "cv = GridSearchCV(model, param, cv = 10, scoring=ikomek_scorer)\n",
    "logreg = Pipeline([\n",
    "                    ('tfidf', vec_model),\n",
    "                    ('clf', cv),\n",
    "               ])\n",
    "logreg.fit(X_train, y_train)\n",
    "print(\"tuned hpyerparameters :(best parameters) \", cv.best_params_)\n",
    "print(\"accuracy :\", cv.best_score_)\n",
    "test_score = logreg.score(X_test, y_test)\n",
    "print('Test score: ', test_score)\n",
    "print_result(logreg, test_text, X_test, y_test, cv)\n",
    "dump(logreg, 'data/nb.joblib')"
   ]
  },
  {
   "cell_type": "code",
   "execution_count": 52,
   "metadata": {},
   "outputs": [
    {
     "name": "stdout",
     "output_type": "stream",
     "text": [
      "['Ремонт компьютеров' 'Уборка помещений' 'Видеонаблюдение'\n",
      " 'Автоматические ворота, рольставни' 'Ремонт стиральных машин']\n",
      "[13  9 24 25 61]\n"
     ]
    },
    {
     "data": {
      "text/html": [
       "<div>\n",
       "<style scoped>\n",
       "    .dataframe tbody tr th:only-of-type {\n",
       "        vertical-align: middle;\n",
       "    }\n",
       "\n",
       "    .dataframe tbody tr th {\n",
       "        vertical-align: top;\n",
       "    }\n",
       "\n",
       "    .dataframe thead th {\n",
       "        text-align: right;\n",
       "    }\n",
       "</style>\n",
       "<table border=\"1\" class=\"dataframe\">\n",
       "  <thead>\n",
       "    <tr style=\"text-align: right;\">\n",
       "      <th></th>\n",
       "      <th>contract</th>\n",
       "      <th>service_id</th>\n",
       "      <th>service_name</th>\n",
       "      <th>user_request</th>\n",
       "      <th>lemmas</th>\n",
       "    </tr>\n",
       "  </thead>\n",
       "  <tbody>\n",
       "    <tr>\n",
       "      <th>3</th>\n",
       "      <td>573</td>\n",
       "      <td>13</td>\n",
       "      <td>Ремонт компьютеров</td>\n",
       "      <td>рейтинг нулевой</td>\n",
       "      <td>рейтинг нулевой</td>\n",
       "    </tr>\n",
       "    <tr>\n",
       "      <th>4</th>\n",
       "      <td>617</td>\n",
       "      <td>13</td>\n",
       "      <td>Ремонт компьютеров</td>\n",
       "      <td>пробный заказ на новой версии</td>\n",
       "      <td>пробный новый версия</td>\n",
       "    </tr>\n",
       "    <tr>\n",
       "      <th>6</th>\n",
       "      <td>650</td>\n",
       "      <td>13</td>\n",
       "      <td>Ремонт компьютеров</td>\n",
       "      <td>пуш есть или нет на горячий заказ</td>\n",
       "      <td>пуша горячий</td>\n",
       "    </tr>\n",
       "    <tr>\n",
       "      <th>7</th>\n",
       "      <td>651</td>\n",
       "      <td>13</td>\n",
       "      <td>Ремонт компьютеров</td>\n",
       "      <td>покрасить намордник у собаки</td>\n",
       "      <td>покрасить намордник собака</td>\n",
       "    </tr>\n",
       "    <tr>\n",
       "      <th>9</th>\n",
       "      <td>664</td>\n",
       "      <td>13</td>\n",
       "      <td>Ремонт компьютеров</td>\n",
       "      <td>сделать рекламу на окна</td>\n",
       "      <td>сделать реклама окно</td>\n",
       "    </tr>\n",
       "  </tbody>\n",
       "</table>\n",
       "</div>"
      ],
      "text/plain": [
       "   contract  service_id        service_name  \\\n",
       "3       573          13  Ремонт компьютеров   \n",
       "4       617          13  Ремонт компьютеров   \n",
       "6       650          13  Ремонт компьютеров   \n",
       "7       651          13  Ремонт компьютеров   \n",
       "9       664          13  Ремонт компьютеров   \n",
       "\n",
       "                        user_request                      lemmas  \n",
       "3                    рейтинг нулевой             рейтинг нулевой  \n",
       "4      пробный заказ на новой версии        пробный новый версия  \n",
       "6  пуш есть или нет на горячий заказ                пуша горячий  \n",
       "7       покрасить намордник у собаки  покрасить намордник собака  \n",
       "9            сделать рекламу на окна        сделать реклама окно  "
      ]
     },
     "execution_count": 52,
     "metadata": {},
     "output_type": "execute_result"
    }
   ],
   "source": [
    "data4['lemmas'] = data4.user_request.apply(lambda x: clear_text(x))\n",
    "for index, row in data4.iterrows():\n",
    "    if len(row['lemmas']) < 3 or len(row['lemmas'].split(' ')) < 2:\n",
    "        data4.drop(index, inplace=True)\n",
    "print(data4.service_name.unique())\n",
    "print(data4.service_id.unique())\n",
    "data4.head()"
   ]
  },
  {
   "cell_type": "code",
   "execution_count": 53,
   "metadata": {},
   "outputs": [],
   "source": [
    "X = data4.lemmas\n",
    "Y = data4.service_id\n",
    "X4_train, X4_test, y4_train, y4_test = train_test_split(X, Y, test_size=0.33, random_state=42)"
   ]
  },
  {
   "cell_type": "code",
   "execution_count": 54,
   "metadata": {},
   "outputs": [
    {
     "name": "stderr",
     "output_type": "stream",
     "text": [
      "/var/www/pvm/jupiter/lib/python3.6/site-packages/sklearn/model_selection/_search.py:813: DeprecationWarning: The default of the `iid` parameter will change from True to False in version 0.22 and will be removed in 0.24. This will change numeric results when test-set sizes are unequal.\n",
      "  DeprecationWarning)\n"
     ]
    },
    {
     "name": "stdout",
     "output_type": "stream",
     "text": [
      "tuned hpyerparameters :(best parameters)  {'alpha': 0.1, 'fit_prior': True}\n",
      "accuracy : 0.946843853820598\n",
      "Test score:  0.9194630872483222\n",
      "Predicted service ID:  [25]\n",
      "Predic_proba :  [[0.12624585 0.09302326 0.20930233 0.3654485  0.20598007]]\n",
      "Precision:   0.95\n",
      "Recall:   0.89\n",
      "F1-measure:   0.91\n",
      "Accuracy:   0.92\n",
      "              precision    recall  f1-score   support\n",
      "\n",
      "           9       1.00      0.91      0.95        23\n",
      "          13       1.00      0.70      0.82        20\n",
      "          24       0.96      0.96      0.96        26\n",
      "          25       0.85      1.00      0.92        53\n",
      "          61       0.92      0.89      0.91        27\n",
      "\n",
      "    accuracy                           0.92       149\n",
      "   macro avg       0.95      0.89      0.91       149\n",
      "weighted avg       0.93      0.92      0.92       149\n",
      "\n"
     ]
    },
    {
     "data": {
      "image/png": "[encoded data removed]",
      "text/plain": [
       "<Figure size 432x288 with 1 Axes>"
      ]
     },
     "metadata": {
      "needs_background": "light"
     },
     "output_type": "display_data"
    },
    {
     "name": "stdout",
     "output_type": "stream",
     "text": [
      "CPU times: user 848 ms, sys: 912 ms, total: 1.76 s\n",
      "Wall time: 9.01 s\n"
     ]
    }
   ],
   "source": [
    "%%time\n",
    "param = [\n",
    "    {'alpha': [0.1, 1.0], 'fit_prior':[True, False]},\n",
    "]\n",
    "ikomek_scorer = make_scorer(ikomek_accuracy)\n",
    "model4 = MultinomialNB()\n",
    "vec_model4 = TfidfVectorizer()\n",
    "cv4 = GridSearchCV(model4, param, cv = 10, scoring=ikomek_scorer, n_jobs=7)\n",
    "logreg4 = Pipeline([\n",
    "                    ('tfidf', vec_model4),\n",
    "                    ('clf', cv4),\n",
    "               ])\n",
    "logreg4.fit(X4_train, y4_train)\n",
    "print(\"tuned hpyerparameters :(best parameters) \", cv4.best_params_)\n",
    "print(\"accuracy :\", cv4.best_score_)\n",
    "test_score = logreg4.score(X4_test, y4_test)\n",
    "print('Test score: ', test_score)\n",
    "print_result(logreg4, test_text, X4_test, y4_test, cv4, lab=['комп', 'уборка', 'видео',\n",
    " 'ворота', 'стиральн'])\n",
    "dump(logreg4, 'data/nb4.joblib')"
   ]
  },
  {
   "cell_type": "code",
   "execution_count": null,
   "metadata": {},
   "outputs": [],
   "source": []
  }
 ],
 "metadata": {
  "kernelspec": {
   "display_name": "Python 3",
   "language": "python",
   "name": "python3"
  },
  "language_info": {
   "codemirror_mode": {
    "name": "ipython",
    "version": 3
   },
   "file_extension": ".py",
   "mimetype": "text/x-python",
   "name": "python",
   "nbconvert_exporter": "python",
   "pygments_lexer": "ipython3",
   "version": "3.6.8"
  }
 },
 "nbformat": 4,
 "nbformat_minor": 2
}
