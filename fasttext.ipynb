{
 "cells": [
  {
   "cell_type": "code",
   "execution_count": 1,
   "metadata": {},
   "outputs": [],
   "source": [
    "import pandas as pd\n",
    "import numpy as np\n",
    "import gensim\n",
    "import matplotlib.pyplot as plt\n",
    "%matplotlib inline"
   ]
  },
  {
   "cell_type": "code",
   "execution_count": 2,
   "metadata": {},
   "outputs": [],
   "source": [
    "data = pd.read_csv('data/contracts.csv',sep=';', header=None, names=['contract','service_id','service_name','user_request'])"
   ]
  },
  {
   "cell_type": "code",
   "execution_count": 3,
   "metadata": {},
   "outputs": [
    {
     "data": {
      "text/html": [
       "<div>\n",
       "<style scoped>\n",
       "    .dataframe tbody tr th:only-of-type {\n",
       "        vertical-align: middle;\n",
       "    }\n",
       "\n",
       "    .dataframe tbody tr th {\n",
       "        vertical-align: top;\n",
       "    }\n",
       "\n",
       "    .dataframe thead th {\n",
       "        text-align: right;\n",
       "    }\n",
       "</style>\n",
       "<table border=\"1\" class=\"dataframe\">\n",
       "  <thead>\n",
       "    <tr style=\"text-align: right;\">\n",
       "      <th></th>\n",
       "      <th>contract</th>\n",
       "      <th>service_id</th>\n",
       "      <th>service_name</th>\n",
       "      <th>user_request</th>\n",
       "    </tr>\n",
       "  </thead>\n",
       "  <tbody>\n",
       "    <tr>\n",
       "      <th>0</th>\n",
       "      <td>354</td>\n",
       "      <td>4</td>\n",
       "      <td>Сантехник</td>\n",
       "      <td>лалсо</td>\n",
       "    </tr>\n",
       "    <tr>\n",
       "      <th>1</th>\n",
       "      <td>364</td>\n",
       "      <td>16</td>\n",
       "      <td>Сборка и ремонт мебели</td>\n",
       "      <td>заказ для Александра Трушкина</td>\n",
       "    </tr>\n",
       "    <tr>\n",
       "      <th>2</th>\n",
       "      <td>370</td>\n",
       "      <td>13</td>\n",
       "      <td>Ремонт компьютеров</td>\n",
       "      <td>заказ для Алишера</td>\n",
       "    </tr>\n",
       "    <tr>\n",
       "      <th>3</th>\n",
       "      <td>379</td>\n",
       "      <td>14</td>\n",
       "      <td>Муж на час</td>\n",
       "      <td>для Ерлана</td>\n",
       "    </tr>\n",
       "    <tr>\n",
       "      <th>4</th>\n",
       "      <td>385</td>\n",
       "      <td>14</td>\n",
       "      <td>Муж на час</td>\n",
       "      <td>мастер мастеров</td>\n",
       "    </tr>\n",
       "  </tbody>\n",
       "</table>\n",
       "</div>"
      ],
      "text/plain": [
       "   contract  service_id            service_name                   user_request\n",
       "0       354           4               Сантехник                          лалсо\n",
       "1       364          16  Сборка и ремонт мебели  заказ для Александра Трушкина\n",
       "2       370          13      Ремонт компьютеров              заказ для Алишера\n",
       "3       379          14              Муж на час                     для Ерлана\n",
       "4       385          14              Муж на час                мастер мастеров"
      ]
     },
     "execution_count": 3,
     "metadata": {},
     "output_type": "execute_result"
    }
   ],
   "source": [
    "data.head()"
   ]
  },
  {
   "cell_type": "code",
   "execution_count": 4,
   "metadata": {},
   "outputs": [
    {
     "data": {
      "text/plain": [
       "<matplotlib.axes._subplots.AxesSubplot at 0x7f12e394dc18>"
      ]
     },
     "execution_count": 4,
     "metadata": {},
     "output_type": "execute_result"
    },
    {
     "data": {
      "image/png": "[encoded data removed]",
      "text/plain": [
       "<Figure size 432x288 with 1 Axes>"
      ]
     },
     "metadata": {
      "needs_background": "light"
     },
     "output_type": "display_data"
    }
   ],
   "source": [
    "data.service_id.value_counts().plot(kind='bar')"
   ]
  },
  {
   "cell_type": "code",
   "execution_count": 5,
   "metadata": {},
   "outputs": [
    {
     "data": {
      "text/html": [
       "<div>\n",
       "<style scoped>\n",
       "    .dataframe tbody tr th:only-of-type {\n",
       "        vertical-align: middle;\n",
       "    }\n",
       "\n",
       "    .dataframe tbody tr th {\n",
       "        vertical-align: top;\n",
       "    }\n",
       "\n",
       "    .dataframe thead th {\n",
       "        text-align: right;\n",
       "    }\n",
       "</style>\n",
       "<table border=\"1\" class=\"dataframe\">\n",
       "  <thead>\n",
       "    <tr style=\"text-align: right;\">\n",
       "      <th></th>\n",
       "      <th>contract</th>\n",
       "      <th>service_id</th>\n",
       "      <th>service_name</th>\n",
       "      <th>user_request</th>\n",
       "    </tr>\n",
       "  </thead>\n",
       "  <tbody>\n",
       "    <tr>\n",
       "      <th>1</th>\n",
       "      <td>364</td>\n",
       "      <td>16</td>\n",
       "      <td>Сборка и ремонт мебели</td>\n",
       "      <td>заказ для Александра Трушкина</td>\n",
       "    </tr>\n",
       "    <tr>\n",
       "      <th>2</th>\n",
       "      <td>370</td>\n",
       "      <td>13</td>\n",
       "      <td>Ремонт компьютеров</td>\n",
       "      <td>заказ для Алишера</td>\n",
       "    </tr>\n",
       "    <tr>\n",
       "      <th>9</th>\n",
       "      <td>550</td>\n",
       "      <td>13</td>\n",
       "      <td>Ремонт компьютеров</td>\n",
       "      <td>где фото?</td>\n",
       "    </tr>\n",
       "    <tr>\n",
       "      <th>11</th>\n",
       "      <td>568</td>\n",
       "      <td>13</td>\n",
       "      <td>Ремонт компьютеров</td>\n",
       "      <td>видно имя?</td>\n",
       "    </tr>\n",
       "    <tr>\n",
       "      <th>13</th>\n",
       "      <td>573</td>\n",
       "      <td>13</td>\n",
       "      <td>Ремонт компьютеров</td>\n",
       "      <td>рейтинг нулевой</td>\n",
       "    </tr>\n",
       "  </tbody>\n",
       "</table>\n",
       "</div>"
      ],
      "text/plain": [
       "    contract  service_id            service_name  \\\n",
       "1        364          16  Сборка и ремонт мебели   \n",
       "2        370          13      Ремонт компьютеров   \n",
       "9        550          13      Ремонт компьютеров   \n",
       "11       568          13      Ремонт компьютеров   \n",
       "13       573          13      Ремонт компьютеров   \n",
       "\n",
       "                     user_request  \n",
       "1   заказ для Александра Трушкина  \n",
       "2               заказ для Алишера  \n",
       "9                       где фото?  \n",
       "11                     видно имя?  \n",
       "13                рейтинг нулевой  "
      ]
     },
     "execution_count": 5,
     "metadata": {},
     "output_type": "execute_result"
    }
   ],
   "source": [
    "data4 = data[~data.service_id.isin([14,10,4])].copy()\n",
    "data4.head()"
   ]
  },
  {
   "cell_type": "code",
   "execution_count": 6,
   "metadata": {},
   "outputs": [],
   "source": [
    "data.loc[~data.service_id.isin([14,10,4]), 'service_id'] = 0"
   ]
  },
  {
   "cell_type": "code",
   "execution_count": 7,
   "metadata": {},
   "outputs": [
    {
     "data": {
      "text/plain": [
       "<matplotlib.axes._subplots.AxesSubplot at 0x7f12e1828518>"
      ]
     },
     "execution_count": 7,
     "metadata": {},
     "output_type": "execute_result"
    },
    {
     "data": {
      "image/png": "[encoded data removed]",
      "text/plain": [
       "<Figure size 432x288 with 1 Axes>"
      ]
     },
     "metadata": {
      "needs_background": "light"
     },
     "output_type": "display_data"
    }
   ],
   "source": [
    "data.service_id.value_counts().plot(kind='bar')"
   ]
  },
  {
   "cell_type": "code",
   "execution_count": 8,
   "metadata": {},
   "outputs": [],
   "source": [
    "vc = data4.service_id.value_counts().sort_values(ascending=False)[5:].index.tolist()\n",
    "ind = data4[data4['service_id'].isin(vc)].index\n",
    "data4.drop(ind, inplace=True)"
   ]
  },
  {
   "cell_type": "code",
   "execution_count": 9,
   "metadata": {},
   "outputs": [
    {
     "data": {
      "text/plain": [
       "<matplotlib.axes._subplots.AxesSubplot at 0x7f12e17b4a58>"
      ]
     },
     "execution_count": 9,
     "metadata": {},
     "output_type": "execute_result"
    },
    {
     "data": {
      "image/png": "[encoded data removed]",
      "text/plain": [
       "<Figure size 432x288 with 1 Axes>"
      ]
     },
     "metadata": {
      "needs_background": "light"
     },
     "output_type": "display_data"
    }
   ],
   "source": [
    "data4.service_id.value_counts().plot(kind='bar')"
   ]
  },
  {
   "cell_type": "code",
   "execution_count": 10,
   "metadata": {},
   "outputs": [],
   "source": [
    "import re\n",
    "REPLACE_BY_SPACE_RE = re.compile('[/(){}\\[\\]\\|@,;]')\n",
    "BAD_SYMBOLS_RE = re.compile('[^а-я ]')"
   ]
  },
  {
   "cell_type": "code",
   "execution_count": 11,
   "metadata": {},
   "outputs": [],
   "source": [
    "def remove_stopwords(text: str) -> str:\n",
    "        try:\n",
    "            text = text.lower()\n",
    "            text = REPLACE_BY_SPACE_RE.sub(' ', text)\n",
    "            text = BAD_SYMBOLS_RE.sub('', text)\n",
    "            return \" \".join([token for token in text.split() if token not in mystopwords])\n",
    "        except:\n",
    "            return \"\"\n",
    "        \n",
    "def lemmatize(text: str) -> str:\n",
    "    try:\n",
    "        return \"\".join(m.lemmatize(text)).strip()  \n",
    "    except:\n",
    "        return \" \"\n",
    "\n",
    "def remove_stoplemmas(text: str) -> str:\n",
    "    try:\n",
    "        return \" \".join([token for token in text.split() if token not in mystoplemmas])\n",
    "    except:\n",
    "        return \"\"\n",
    "\n",
    "def clear_text(text: str) ->str:\n",
    "    cText = remove_stopwords(text)\n",
    "    cText = lemmatize(cText)\n",
    "    cText = remove_stoplemmas(cText)\n",
    "    return cText"
   ]
  },
  {
   "cell_type": "code",
   "execution_count": 12,
   "metadata": {},
   "outputs": [],
   "source": [
    "from pymystem3 import Mystem"
   ]
  },
  {
   "cell_type": "code",
   "execution_count": 13,
   "metadata": {},
   "outputs": [],
   "source": [
    "m = Mystem()"
   ]
  },
  {
   "cell_type": "code",
   "execution_count": 14,
   "metadata": {},
   "outputs": [
    {
     "name": "stderr",
     "output_type": "stream",
     "text": [
      "[nltk_data] Downloading package stopwords to /home/mic/nltk_data...\n",
      "[nltk_data]   Package stopwords is already up-to-date!\n"
     ]
    }
   ],
   "source": [
    "import smart_open\n",
    "import nltk\n",
    "from gensim.test.utils import datapath\n",
    "from nltk.corpus import stopwords\n",
    "nltk.download('stopwords')\n",
    "mystopwords = stopwords.words('russian') + ['это', 'наш', 'тыс', 'млн', 'млрд', 'также',  'т', 'д','iKomek.kz','кв']\n",
    "mystoplemmas = ['который', 'прошлый', 'сей', 'свой', 'наш', 'мочь']"
   ]
  },
  {
   "cell_type": "code",
   "execution_count": 15,
   "metadata": {},
   "outputs": [],
   "source": [
    "from fastText import FastText as FT"
   ]
  },
  {
   "cell_type": "code",
   "execution_count": 17,
   "metadata": {},
   "outputs": [],
   "source": [
    "model1 = FT.train_unsupervised(input='data/lemmas.txt', dim=50, epoch=100)"
   ]
  },
  {
   "cell_type": "code",
   "execution_count": 18,
   "metadata": {},
   "outputs": [],
   "source": [
    "vectors = []\n",
    "for index, row in data.iterrows():\n",
    "    l = clear_text(row['user_request'])\n",
    "    vector = model1.get_sentence_vector(l)\n",
    "    vectors.append(vector)"
   ]
  },
  {
   "cell_type": "code",
   "execution_count": 19,
   "metadata": {},
   "outputs": [],
   "source": [
    "from sklearn.model_selection import train_test_split"
   ]
  },
  {
   "cell_type": "code",
   "execution_count": 21,
   "metadata": {},
   "outputs": [],
   "source": [
    "Y = data.service_id\n",
    "X_train, X_test, y_train, y_test = train_test_split(vectors, Y, test_size=0.33, random_state=42)"
   ]
  },
  {
   "cell_type": "code",
   "execution_count": 22,
   "metadata": {},
   "outputs": [],
   "source": [
    "from sklearn.model_selection import GridSearchCV\n",
    "from sklearn.linear_model import LogisticRegression\n",
    "from sklearn.ensemble import RandomForestClassifier\n",
    "from sklearn.svm import LinearSVC"
   ]
  },
  {
   "cell_type": "code",
   "execution_count": 23,
   "metadata": {},
   "outputs": [
    {
     "name": "stdout",
     "output_type": "stream",
     "text": [
      "tuned hpyerparameters :(best parameters)  {'C': 50, 'penalty': 'l1', 'solver': 'liblinear'}\n",
      "accuracy : 0.752594210813763\n"
     ]
    }
   ],
   "source": [
    "param = [\n",
    "         {\"C\":[5,10,50], 'penalty': ['l1'], 'solver': ['liblinear', 'saga']},\n",
    "         {\"C\":[5,10,50],'penalty': ['l2'], 'solver': ['newton-cg'] }\n",
    "        ]\n",
    "model = LogisticRegression(multi_class = 'auto', max_iter = 200)\n",
    "cv = GridSearchCV(model, param, cv = 3, n_jobs = 7)\n",
    "cv.fit(X_train, y_train)\n",
    "\n",
    "print(\"tuned hpyerparameters :(best parameters) \", cv.best_params_)\n",
    "print(\"accuracy :\", cv.best_score_)"
   ]
  },
  {
   "cell_type": "code",
   "execution_count": 31,
   "metadata": {},
   "outputs": [],
   "source": [
    "from sklearn.metrics import *\n",
    "import seaborn as sns"
   ]
  },
  {
   "cell_type": "code",
   "execution_count": 35,
   "metadata": {},
   "outputs": [],
   "source": [
    "def print_result(model, text, x_test, y_true, cv, proba=True):\n",
    "    print('Predicted service ID: ', model.predict([text]))\n",
    "    if proba:\n",
    "        pred_service = model.predict_proba([text])\n",
    "        print('Predic_proba : ', pred_service)\n",
    "    predictions = model.predict(x_test)\n",
    "    print(\"Precision: {0:6.2f}\".format(precision_score(y_true, predictions, average='macro')))\n",
    "    print(\"Recall: {0:6.2f}\".format(recall_score(y_true, predictions, average='macro')))\n",
    "    print(\"F1-measure: {0:6.2f}\".format(f1_score(y_true, predictions, average='macro')))\n",
    "    print(\"Accuracy: {0:6.2f}\".format(accuracy_score(y_true, predictions)))\n",
    "    print(classification_report(y_true, predictions))\n",
    "    labels = cv.best_estimator_.classes_\n",
    "    sns.heatmap(data=confusion_matrix(y_true, predictions), annot=True, fmt=\"d\", cbar=False, xticklabels=labels, yticklabels=labels)\n",
    "    plt.title(\"Confusion matrix\")\n",
    "    plt.show()"
   ]
  },
  {
   "cell_type": "code",
   "execution_count": 36,
   "metadata": {},
   "outputs": [
    {
     "name": "stdout",
     "output_type": "stream",
     "text": [
      "генеральный уборка х комнатный квартира\n",
      "[-0.1946544   0.06222115 -0.09672704 -0.21613017  0.08933946 -0.03780379\n",
      "  0.16778243  0.23382702 -0.04189274  0.04363266 -0.00360325  0.031106\n",
      "  0.06768193 -0.01362341  0.00044305 -0.03927359 -0.08103218 -0.01940151\n",
      "  0.08513712  0.0201978  -0.06261119  0.10410285  0.12646051 -0.14597975\n",
      " -0.00889453  0.02689093 -0.2116007   0.00907183 -0.12512855  0.08984988\n",
      "  0.0039651  -0.08668192 -0.14163707 -0.05497378 -0.13450825 -0.06517221\n",
      " -0.18253496 -0.0556117   0.0284525   0.0187328   0.0098746   0.10450087\n",
      "  0.01163134  0.10370503 -0.02378741 -0.02578911 -0.09878498 -0.0317276\n",
      "  0.08433563 -0.02544507]\n"
     ]
    }
   ],
   "source": [
    "test_text = 'генеральная уборка 4-х комнатной квартиры'\n",
    "test_lemmas = clear_text(test_text)\n",
    "print(test_lemmas)\n",
    "test_vector = model1.get_sentence_vector(test_lemmas)\n",
    "print(test_vector)"
   ]
  },
  {
   "cell_type": "code",
   "execution_count": 37,
   "metadata": {},
   "outputs": [
    {
     "name": "stdout",
     "output_type": "stream",
     "text": [
      "Predicted service ID:  [0]\n",
      "Predic_proba :  [[0.43788302 0.02789225 0.12811599 0.40610875]]\n",
      "Precision:   0.74\n",
      "Recall:   0.71\n",
      "F1-measure:   0.72\n",
      "Accuracy:   0.75\n",
      "              precision    recall  f1-score   support\n",
      "\n",
      "           0       0.70      0.50      0.59       251\n",
      "           4       0.72      0.86      0.79       828\n",
      "          10       0.78      0.89      0.83       735\n",
      "          14       0.75      0.59      0.66       892\n",
      "\n",
      "   micro avg       0.75      0.75      0.75      2706\n",
      "   macro avg       0.74      0.71      0.72      2706\n",
      "weighted avg       0.74      0.75      0.74      2706\n",
      "\n"
     ]
    },
    {
     "data": {
      "image/png": "[encoded data removed]",
      "text/plain": [
       "<Figure size 432x288 with 1 Axes>"
      ]
     },
     "metadata": {
      "needs_background": "light"
     },
     "output_type": "display_data"
    }
   ],
   "source": [
    "print_result(cv,test_vector,X_test,y_test,cv)"
   ]
  },
  {
   "cell_type": "code",
   "execution_count": 50,
   "metadata": {},
   "outputs": [
    {
     "name": "stdout",
     "output_type": "stream",
     "text": [
      "tuned hpyerparameters :(best parameters)  {'max_depth': 20, 'n_estimators': 50}\n",
      "accuracy : 0.7300200254869834\n"
     ]
    }
   ],
   "source": [
    "param = {\"n_estimators\":[5,10,50], 'max_depth': [5,10,20]}      \n",
    "model = RandomForestClassifier(min_samples_leaf=20, max_features=0.5)\n",
    "rf = GridSearchCV(model, param, cv = 3, n_jobs = 7)\n",
    "rf.fit(X_train, y_train)\n",
    "print(\"tuned hpyerparameters :(best parameters) \", rf.best_params_)\n",
    "print(\"accuracy :\", rf.best_score_)"
   ]
  },
  {
   "cell_type": "code",
   "execution_count": 51,
   "metadata": {},
   "outputs": [
    {
     "name": "stdout",
     "output_type": "stream",
     "text": [
      "Predicted service ID:  [0]\n",
      "Predic_proba :  [[0.43178975 0.06906088 0.1148409  0.38430847]]\n",
      "Precision:   0.78\n",
      "Recall:   0.69\n",
      "F1-measure:   0.71\n",
      "Accuracy:   0.73\n",
      "              precision    recall  f1-score   support\n",
      "\n",
      "           0       0.93      0.45      0.61       251\n",
      "           4       0.70      0.84      0.76       828\n",
      "          10       0.73      0.87      0.79       735\n",
      "          14       0.74      0.59      0.66       892\n",
      "\n",
      "   micro avg       0.73      0.73      0.73      2706\n",
      "   macro avg       0.78      0.69      0.71      2706\n",
      "weighted avg       0.74      0.73      0.72      2706\n",
      "\n"
     ]
    },
    {
     "data": {
      "image/png": "[encoded data removed]",
      "text/plain": [
       "<Figure size 432x288 with 1 Axes>"
      ]
     },
     "metadata": {
      "needs_background": "light"
     },
     "output_type": "display_data"
    }
   ],
   "source": [
    "print_result(rf,test_vector,X_test,y_test,rf)"
   ]
  },
  {
   "cell_type": "code",
   "execution_count": 52,
   "metadata": {},
   "outputs": [
    {
     "name": "stderr",
     "output_type": "stream",
     "text": [
      "/var/www/pvm/jupiter/lib/python3.6/site-packages/sklearn/svm/base.py:931: ConvergenceWarning: Liblinear failed to converge, increase the number of iterations.\n",
      "  \"the number of iterations.\", ConvergenceWarning)\n",
      "/var/www/pvm/jupiter/lib/python3.6/site-packages/sklearn/svm/base.py:931: ConvergenceWarning: Liblinear failed to converge, increase the number of iterations.\n",
      "  \"the number of iterations.\", ConvergenceWarning)\n",
      "/var/www/pvm/jupiter/lib/python3.6/site-packages/sklearn/svm/base.py:931: ConvergenceWarning: Liblinear failed to converge, increase the number of iterations.\n",
      "  \"the number of iterations.\", ConvergenceWarning)\n"
     ]
    },
    {
     "name": "stdout",
     "output_type": "stream",
     "text": [
      "tuned hpyerparameters :(best parameters)  {'loss': 'squared_hinge', 'penalty': 'l2'}\n",
      "accuracy : 0.7547788093937738\n"
     ]
    }
   ],
   "source": [
    "param = [\n",
    "    {\"loss\":['hinge','squared_hinge'], 'penalty': ['l2']},\n",
    "]\n",
    "model = LinearSVC()\n",
    "svc = GridSearchCV(model, param, cv = 3)\n",
    "svc.fit(X_train, y_train)\n",
    "print(\"tuned hpyerparameters :(best parameters) \", svc.best_params_)\n",
    "print(\"accuracy :\", svc.best_score_)"
   ]
  },
  {
   "cell_type": "code",
   "execution_count": 53,
   "metadata": {},
   "outputs": [
    {
     "name": "stdout",
     "output_type": "stream",
     "text": [
      "Predicted service ID:  [0]\n",
      "Precision:   0.75\n",
      "Recall:   0.71\n",
      "F1-measure:   0.71\n",
      "Accuracy:   0.75\n",
      "              precision    recall  f1-score   support\n",
      "\n",
      "           0       0.75      0.46      0.57       251\n",
      "           4       0.72      0.87      0.79       828\n",
      "          10       0.77      0.90      0.83       735\n",
      "          14       0.76      0.59      0.67       892\n",
      "\n",
      "   micro avg       0.75      0.75      0.75      2706\n",
      "   macro avg       0.75      0.71      0.71      2706\n",
      "weighted avg       0.75      0.75      0.74      2706\n",
      "\n"
     ]
    },
    {
     "data": {
      "image/png": "[encoded data removed]",
      "text/plain": [
       "<Figure size 432x288 with 1 Axes>"
      ]
     },
     "metadata": {
      "needs_background": "light"
     },
     "output_type": "display_data"
    }
   ],
   "source": [
    "print_result(svc,test_vector,X_test,y_test,svc, False)"
   ]
  },
  {
   "cell_type": "code",
   "execution_count": 47,
   "metadata": {},
   "outputs": [],
   "source": [
    "from sklearn.neighbors import KNeighborsClassifier"
   ]
  },
  {
   "cell_type": "code",
   "execution_count": 56,
   "metadata": {},
   "outputs": [
    {
     "name": "stdout",
     "output_type": "stream",
     "text": [
      "tuned hpyerparameters :(best parameters)  {'n_neighbors': 10}\n",
      "accuracy : 0.7687966502821774\n"
     ]
    }
   ],
   "source": [
    "param = [\n",
    "    {'n_neighbors': [5, 10, 50]},\n",
    "]\n",
    "model = KNeighborsClassifier()\n",
    "kn = GridSearchCV(model, param, cv = 3)\n",
    "kn.fit(X_train, y_train)\n",
    "print(\"tuned hpyerparameters :(best parameters) \", kn.best_params_)\n",
    "print(\"accuracy :\", kn.best_score_)"
   ]
  },
  {
   "cell_type": "code",
   "execution_count": 60,
   "metadata": {
    "scrolled": true
   },
   "outputs": [],
   "source": [
    "from mlxtend.classifier import StackingClassifier"
   ]
  },
  {
   "cell_type": "code",
   "execution_count": 61,
   "metadata": {},
   "outputs": [
    {
     "name": "stderr",
     "output_type": "stream",
     "text": [
      "/var/www/pvm/jupiter/lib/python3.6/site-packages/sklearn/linear_model/logistic.py:460: FutureWarning: Default multi_class will be changed to 'auto' in 0.22. Specify the multi_class option to silence this warning.\n",
      "  \"this warning.\", FutureWarning)\n"
     ]
    },
    {
     "data": {
      "text/plain": [
       "StackingClassifier(average_probas=False,\n",
       "          classifiers=[KNeighborsClassifier(algorithm='auto', leaf_size=30, metric='minkowski',\n",
       "           metric_params=None, n_jobs=None, n_neighbors=10, p=2,\n",
       "           weights='uniform'), RandomForestClassifier(bootstrap=True, class_weight=None, criterion='gini',\n",
       "            max_depth=20, max_features='au...timators=50, n_jobs=None,\n",
       "            oob_score=False, random_state=1, verbose=0, warm_start=False)],\n",
       "          drop_last_proba=False,\n",
       "          meta_classifier=LogisticRegression(C=50, class_weight=None, dual=False, fit_intercept=True,\n",
       "          intercept_scaling=1, max_iter=100, multi_class='warn',\n",
       "          n_jobs=None, penalty='l1', random_state=None, solver='liblinear',\n",
       "          tol=0.0001, verbose=0, warm_start=False),\n",
       "          store_train_meta_features=False, use_clones=True,\n",
       "          use_features_in_secondary=False, use_probas=False, verbose=0)"
      ]
     },
     "execution_count": 61,
     "metadata": {},
     "output_type": "execute_result"
    }
   ],
   "source": [
    "clf1 = KNeighborsClassifier(n_neighbors=10)\n",
    "clf2 = RandomForestClassifier(max_depth = 20, n_estimators = 50, random_state=1)\n",
    "lr = LogisticRegression(C = 50, penalty = 'l1', solver = 'liblinear')\n",
    "sclf = StackingClassifier(classifiers=[clf1, clf2], \n",
    "                          meta_classifier=lr)\n",
    "sclf.fit(X_train, y_train)"
   ]
  },
  {
   "cell_type": "code",
   "execution_count": 62,
   "metadata": {},
   "outputs": [
    {
     "name": "stdout",
     "output_type": "stream",
     "text": [
      "accuracy : 0.7479674796747967\n"
     ]
    }
   ],
   "source": [
    "print(\"accuracy :\",sclf.score(X_test, y_test))"
   ]
  },
  {
   "cell_type": "code",
   "execution_count": 69,
   "metadata": {},
   "outputs": [
    {
     "name": "stdout",
     "output_type": "stream",
     "text": [
      "Predicted service ID:  [0]\n",
      "Predic_proba :  [[4.73718355e-01 4.69254248e-01 5.70226827e-02 4.71425609e-06]]\n",
      "Precision:   0.78\n",
      "Recall:   0.72\n",
      "F1-measure:   0.74\n",
      "Accuracy:   0.75\n",
      "              precision    recall  f1-score   support\n",
      "\n",
      "           0       0.91      0.55      0.69       251\n",
      "           4       0.72      0.83      0.77       828\n",
      "          10       0.78      0.86      0.81       735\n",
      "          14       0.72      0.64      0.68       892\n",
      "\n",
      "   micro avg       0.75      0.75      0.75      2706\n",
      "   macro avg       0.78      0.72      0.74      2706\n",
      "weighted avg       0.75      0.75      0.74      2706\n",
      "\n"
     ]
    },
    {
     "data": {
      "image/png": "[encoded data removed]",
      "text/plain": [
       "<Figure size 432x288 with 1 Axes>"
      ]
     },
     "metadata": {
      "needs_background": "light"
     },
     "output_type": "display_data"
    }
   ],
   "source": [
    "print('Predicted service ID: ', sclf.predict([test_vector]))\n",
    "pred_service = sclf.predict_proba([test_vector])\n",
    "print('Predic_proba : ', pred_service)\n",
    "predictions = sclf.predict(X_test)\n",
    "print(\"Precision: {0:6.2f}\".format(precision_score(y_test, predictions, average='macro')))\n",
    "print(\"Recall: {0:6.2f}\".format(recall_score(y_test, predictions, average='macro')))\n",
    "print(\"F1-measure: {0:6.2f}\".format(f1_score(y_test, predictions, average='macro')))\n",
    "print(\"Accuracy: {0:6.2f}\".format(accuracy_score(y_test, predictions)))\n",
    "print(classification_report(y_test, predictions))\n",
    "labels = ['Другие','Сантехник','Электрик','Муж на час']\n",
    "sns.heatmap(data=confusion_matrix(y_test, predictions), annot=True, fmt=\"d\", cbar=False, xticklabels=labels, yticklabels=labels)\n",
    "plt.title(\"Confusion matrix\")\n",
    "plt.show()"
   ]
  },
  {
   "cell_type": "code",
   "execution_count": null,
   "metadata": {},
   "outputs": [],
   "source": []
  }
 ],
 "metadata": {
  "kernelspec": {
   "display_name": "Python 3",
   "language": "python",
   "name": "python3"
  },
  "language_info": {
   "codemirror_mode": {
    "name": "ipython",
    "version": 3
   },
   "file_extension": ".py",
   "mimetype": "text/x-python",
   "name": "python",
   "nbconvert_exporter": "python",
   "pygments_lexer": "ipython3",
   "version": "3.6.8"
  }
 },
 "nbformat": 4,
 "nbformat_minor": 2
}
